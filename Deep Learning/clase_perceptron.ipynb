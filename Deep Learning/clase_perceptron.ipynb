{
 "cells": [
  {
   "cell_type": "code",
   "execution_count": null,
   "metadata": {},
   "outputs": [],
   "source": [
    "# Importamos las librerías necesarias\n",
    "import numpy as np\n",
    "import matplotlib.pyplot as plt\n",
    "import seaborn as sns\n",
    "import copy\n",
    "from PIL import Image\n",
    "from scipy import ndimage\n",
    "import os\n",
    "from sklearn.preprocessing import LabelEncoder"
   ]
  },
  {
   "cell_type": "code",
   "execution_count": 31,
   "metadata": {},
   "outputs": [
    {
     "name": "stdout",
     "output_type": "stream",
     "text": [
      "data shape: (1600, 64, 64, 3)\n",
      "Labels shape: (1600,)\n"
     ]
    }
   ],
   "source": [
    "base_path = \"./cat-bunny/train-cat-rabbit\"\n",
    "\n",
    "def load_category(cat):\n",
    "    X = []\n",
    "    y = []\n",
    "    path = os.path.join(base_path, cat)\n",
    "\n",
    "    # Cargamos todas las imagenes\n",
    "    for img_name in os.listdir(path):\n",
    "        img_path = os.path.join(path, img_name)\n",
    "\n",
    "        try:\n",
    "            # Cargamos y reducimos tamaño\n",
    "            img = Image.open(img_path).convert(\"RGB\")\n",
    "            img = img.resize((64, 64))\n",
    "            # Pasamos a numpy y añadimos a lista y su categoria\n",
    "            X.append(np.array(img))\n",
    "\n",
    "            if cat == \"cat\":\n",
    "                y.append(1)\n",
    "            else:\n",
    "                y.append(0)\n",
    "\n",
    "        except Exception as e:\n",
    "            print(f\"[Error] Falló la carga. {e} \")\n",
    "\n",
    "    # Pasamos a categorico\n",
    "\n",
    "    return np.array(X), np.array(y)\n",
    "\n",
    "# Cargamos las imagenes.\n",
    "X_train = []; y_train = []\n",
    "for cat in [\"cat\", \"rabbit\"]:\n",
    "    X, y = load_category(cat)\n",
    "    X_train.append(X); y_train.append(y)\n",
    "\n",
    "X_train = np.vstack([X_train[0], X_train[1]])\n",
    "y_train = np.hstack([y_train[0], y_train[1]])\n",
    "\n",
    "\n",
    "print(f\"data shape: {np.array(X_train).shape}\")\n",
    "print(f\"Labels shape: {np.array(y_train).shape}\")"
   ]
  },
  {
   "cell_type": "code",
   "execution_count": 32,
   "metadata": {},
   "outputs": [
    {
     "data": {
      "text/plain": [
       "array([0, 1])"
      ]
     },
     "execution_count": 32,
     "metadata": {},
     "output_type": "execute_result"
    }
   ],
   "source": [
    "np.unique(y_train)"
   ]
  },
  {
   "cell_type": "code",
   "execution_count": 33,
   "metadata": {},
   "outputs": [
    {
     "name": "stdout",
     "output_type": "stream",
     "text": [
      "Testing:  (1600, 64, 64, 3) labels:  (1600,)\n",
      "Val:  (414, 64, 64, 3) labels:  (414,)\n"
     ]
    }
   ],
   "source": [
    "# Cargamos los otros datasets\n",
    "X_test = []; y_test = [];\n",
    "for cat in [\"cat\", \"rabbit\"]:\n",
    "    base_path = \"./cat-bunny/train-cat-rabbit/\"\n",
    "    X, y = load_category(cat)\n",
    "    X_test.append(X); y_test.append(y)\n",
    "\n",
    "X_test = np.vstack([X_test[0], X_test[1]])\n",
    "y_test = np.hstack([y_test[0], y_test[1]])\n",
    "\n",
    "\n",
    "X_val = []; y_val = []\n",
    "for cat in [\"cat\", \"rabbit\"]:\n",
    "    base_path = \"./cat-bunny/val-cat-rabbit/\"\n",
    "    X, y = load_category(cat)\n",
    "    X_val.append(X), y_val.append(y)\n",
    "\n",
    "X_val = np.vstack([X_val[0], X_val[1]])\n",
    "y_val = np.hstack([y_val[0], y_val[1]])\n",
    "\n",
    "print(\"Testing: \", X_test.shape, \"labels: \", y_test.shape)\n",
    "print(\"Val: \", X_val.shape, \"labels: \", y_val.shape)"
   ]
  },
  {
   "cell_type": "code",
   "execution_count": 34,
   "metadata": {},
   "outputs": [],
   "source": [
    "etiquetas = {0:\"conejo\",\n",
    "             1:\"gato\"}"
   ]
  },
  {
   "cell_type": "code",
   "execution_count": 35,
   "metadata": {},
   "outputs": [
    {
     "data": {
      "image/png": "[encoded data removed]",
      "text/plain": [
       "<Figure size 640x480 with 1 Axes>"
      ]
     },
     "metadata": {},
     "output_type": "display_data"
    }
   ],
   "source": [
    "index = np.random.randint(len(X_train))\n",
    "plt.imshow(X_train[index])\n",
    "plt.title(f\"Image: {index}; etiqueta {etiquetas[y_train[index]]}\")\n",
    "plt.axis(False)\n",
    "plt.show()"
   ]
  },
  {
   "cell_type": "code",
   "execution_count": 36,
   "metadata": {},
   "outputs": [
    {
     "name": "stdout",
     "output_type": "stream",
     "text": [
      "X_train shape: (12288, 1600)\n",
      "y_train shape: (1, 1600)\n"
     ]
    }
   ],
   "source": [
    "# Aplanando las imagenes.\n",
    "X_train_f = X_train.reshape(X_train.shape[0], -1).T\n",
    "y_train_f = y_train.reshape(y_train.shape[0], -1).T # ajustamos a forma vector\n",
    "\n",
    "print(f\"X_train shape: {X_train_f.shape}\")\n",
    "print(f\"y_train shape: {y_train_f.shape}\")"
   ]
  },
  {
   "cell_type": "code",
   "execution_count": 37,
   "metadata": {},
   "outputs": [
    {
     "name": "stdout",
     "output_type": "stream",
     "text": [
      "Shapes\n",
      "      X_test_f: (12288, 1600)\n",
      "      X_val_f: (12288, 414)\n",
      "      y_test_f: (1, 1600)\n",
      "      y_val_f: (1, 414)\n"
     ]
    }
   ],
   "source": [
    "def flatten(vector1, vector2):\n",
    "    vector1 = vector1.reshape(vector1.shape[0], -1).T\n",
    "    vector2 = vector2.reshape(vector2.shape[0], -1).T\n",
    "    return vector1, vector2\n",
    "\n",
    "X_test_f, y_test_f = flatten(X_test, y_test)\n",
    "X_val_f, y_val_f = flatten(X_val, y_val)\n",
    "\n",
    "print(f\"\"\"Shapes\n",
    "      X_test_f: {X_test_f.shape}\n",
    "      X_val_f: {X_val_f.shape}\n",
    "      y_test_f: {y_test_f.shape}\n",
    "      y_val_f: {y_val_f.shape}\"\"\")"
   ]
  },
  {
   "cell_type": "code",
   "execution_count": 38,
   "metadata": {},
   "outputs": [
    {
     "data": {
      "text/plain": [
       "array([0.38823529, 0.01960784, 0.17647059, ..., 1.        , 0.52156863,\n",
       "       0.39215686])"
      ]
     },
     "execution_count": 38,
     "metadata": {},
     "output_type": "execute_result"
    }
   ],
   "source": [
    "X_test_f  = X_test_f / 255\n",
    "X_train_f = X_train_f / 255\n",
    "X_val_f   = X_val_f / 255\n",
    "\n",
    "X_test_f[0]"
   ]
  },
  {
   "cell_type": "markdown",
   "metadata": {},
   "source": [
    "------------"
   ]
  },
  {
   "cell_type": "code",
   "execution_count": 39,
   "metadata": {},
   "outputs": [
    {
     "data": {
      "text/plain": [
       "array([0.5       , 0.73105858, 0.88079708, 0.95257413])"
      ]
     },
     "execution_count": 39,
     "metadata": {},
     "output_type": "execute_result"
    }
   ],
   "source": [
    "# Creamos la función de activación. Usaremos Sigmoid\n",
    "def sigmoid(z):\n",
    "    \"\"\"Función no líneal para transformar Z.\n",
    "\n",
    "    Args:\n",
    "        z: Escalar o arreglo de numpy\n",
    "    Return:\n",
    "        a: Sigmoide de z\n",
    "    \"\"\"\n",
    "    # Calculo del sigmoide de Z.\n",
    "\n",
    "    a = 1 / (1 + np.exp(-z))\n",
    "    return a\n",
    "\n",
    "\n",
    "# Probamos la función\n",
    "sigmoid(np.array([0, 1, 2, 3]))"
   ]
  },
  {
   "cell_type": "code",
   "execution_count": 40,
   "metadata": {},
   "outputs": [
    {
     "name": "stdout",
     "output_type": "stream",
     "text": [
      "[[0.]\n",
      " [0.]]\n",
      "0.0\n"
     ]
    }
   ],
   "source": [
    "def inicializar_parametros(dim):\n",
    "    w = np.zeros((dim, 1))\n",
    "    b = 0.0\n",
    "\n",
    "    return w, b\n",
    "\n",
    "\n",
    "# Probamos\n",
    "dim = 2\n",
    "w, b = inicializar_parametros(dim)\n",
    "print(w)\n",
    "print(b)"
   ]
  },
  {
   "cell_type": "code",
   "execution_count": 41,
   "metadata": {},
   "outputs": [
    {
     "name": "stdout",
     "output_type": "stream",
     "text": [
      "Resultados\n",
      "      dw: [[ 0.25071532]\n",
      " [-0.06604096]]\n",
      "      db: -0.12500404500439652\n",
      "      cost: 0.15900537707692405\n"
     ]
    }
   ],
   "source": [
    "def fullpropagation(w, b, X, y):\n",
    "    m = X.shape[1]\n",
    "\n",
    "    # Propagación hacia adelante\n",
    "    z = np.dot(w.T, X) + b\n",
    "    A = sigmoid(z)\n",
    "    cost = -np.sum(y*np.log(A) + (1-y)*np.log(1-A)) / X.shape[-1]\n",
    "\n",
    "    # Propagación hacia atrás; derivadas\n",
    "    dw = np.dot(X, (A - y).T) / X.shape[-1]\n",
    "    db = np.sum(A - y) / X.shape[-1]\n",
    "\n",
    "    grads = {\"dw\": dw,\n",
    "             \"db\": db}\n",
    "\n",
    "    return grads, cost\n",
    "\n",
    "\n",
    "# Probamos con valores dummy\n",
    "w =  np.array([[1.], [2]])\n",
    "b = 1.5\n",
    "X = np.array([[1, -2, -1.], [3, 0.5, -3.2]])\n",
    "y = np.array([[1, 1, 0]])\n",
    "\n",
    "grads, cost = fullpropagation(w, b, X, y)\n",
    "\n",
    "print(f\"\"\"Resultados\n",
    "      dw: {grads[\"dw\"]}\n",
    "      db: {grads[\"db\"]}\n",
    "      cost: {cost}\"\"\")"
   ]
  },
  {
   "cell_type": "code",
   "execution_count": 42,
   "metadata": {},
   "outputs": [
    {
     "name": "stdout",
     "output_type": "stream",
     "text": [
      "Resultados\n",
      "w: [[0.97543108]\n",
      " [2.00648089]],\n",
      "b: 1.5122486954807202\n",
      "dw: [[ 0.24075671]\n",
      " [-0.06360005]],\n",
      "db: -0.12001674170801362,\n",
      "costos: [np.float64(0.15900537707692405)]\n",
      "      \n"
     ]
    }
   ],
   "source": [
    "def optimizar(w, b, X, y, epochs=100, learning_rate=0.009, verbose=False):\n",
    "    w = copy.deepcopy(w) # Evitamos modificar los originales\n",
    "    b = copy.deepcopy(b)\n",
    "\n",
    "    costs = []\n",
    "\n",
    "    for i in range(epochs):\n",
    "        # Calculo de gradientes\n",
    "        grads, cost = fullpropagation(w, b, X, y)\n",
    "\n",
    "        # Obtenemos los gradientes\n",
    "        dw = grads[\"dw\"]\n",
    "        db = grads[\"db\"]\n",
    "\n",
    "        # Actualizamos los pesos\n",
    "        w -= learning_rate * dw\n",
    "        b -= learning_rate * db\n",
    "\n",
    "        # Almacenamos un historial cada 100 epocas\n",
    "        if i % 100 == 0:\n",
    "            costs.append(cost)\n",
    "\n",
    "            if verbose:\n",
    "                print(f\"Epoca {i+1} --- Costo: {cost:.5f} \")\n",
    "\n",
    "    params = {\"w\": w,\n",
    "              \"b\": b}\n",
    "    grads = {\"dw\": dw,\n",
    "             \"db\": db}\n",
    "\n",
    "    return params, grads, costs\n",
    "\n",
    "\n",
    "# Probamos\n",
    "params, grads, costs = optimizar(w, b, X, y, epochs=100, learning_rate=1e-3)\n",
    "print(f\"\"\"Resultados\n",
    "w: {params[\"w\"]},\n",
    "b: {params[\"b\"]}\n",
    "dw: {grads[\"dw\"]},\n",
    "db: {grads[\"db\"]},\n",
    "costos: {costs}\n",
    "      \"\"\")"
   ]
  },
  {
   "cell_type": "code",
   "execution_count": 43,
   "metadata": {},
   "outputs": [
    {
     "name": "stdout",
     "output_type": "stream",
     "text": [
      "Predicciones: [[1. 1. 0.]]\n"
     ]
    }
   ],
   "source": [
    "def predict(w, b, X):\n",
    "    m = X.shape[1]\n",
    "\n",
    "    y_pred = np.zeros((1, m))\n",
    "    w = w.reshape(X.shape[0], 1)\n",
    "\n",
    "    A = sigmoid(np.dot(w.T, X) + b)\n",
    "\n",
    "    # Mapeamos las predicciones\n",
    "    y_pred = np.zeros_like(A) # Todo se clasifica como conejo\n",
    "    y_pred[A > 0.5] = 1\n",
    "\n",
    "    return y_pred\n",
    "\n",
    "# Probamos\n",
    "w = np.array([[0.1124579], [0.23106775]])\n",
    "b = -0.3\n",
    "X = np.array([[1., -1.1, -3.2],[1.2, 2., 0.1]])\n",
    "\n",
    "print(f\"Predicciones: {predict(w, b, X)}\")"
   ]
  },
  {
   "cell_type": "code",
   "execution_count": 44,
   "metadata": {},
   "outputs": [],
   "source": [
    "def NeuralNetwork(X_train, y_train, X_test, y_test, epochs=2_000, lr=0.5, verbose=False):\n",
    "    # 1) Inicializamos\n",
    "    w, b = inicializar_parametros(X_train.shape[0])\n",
    "\n",
    "    # 2) Descensp del gradiente\n",
    "    params, grads, costs = optimizar(w, b, X_train, y_train, epochs, lr, verbose)\n",
    "\n",
    "    # 3) Obtenemos parámetros\n",
    "    w = params[\"w\"]\n",
    "    b = params[\"b\"]\n",
    "\n",
    "    # Realizamos una predicción\n",
    "    y_pred_train = predict(w, b, X_train)\n",
    "    y_pred_test = predict(w, b, X_test)\n",
    "\n",
    "    # Mostramos las métricas del modelo\n",
    "    if verbose:\n",
    "        print(f\"Exactitud de entrenamiento: {100-np.mean(np.abs(y_pred_train - y_train))*100}\")\n",
    "        print(f\"Exactitud de Testing: {      100-np.mean(np.abs(y_pred_test - y_test))*100}\")\n",
    "\n",
    "    # Almacenamos todo\n",
    "    data = {\"costs\": costs,\n",
    "            \"y_pred_train\": y_pred_train,\n",
    "            \"y_pred_test\": y_pred_test,\n",
    "            \"w\": w,\n",
    "            \"b\": b,\n",
    "            \"learning_rate\": lr,\n",
    "            \"epochs\": epochs}\n",
    "    return data\n"
   ]
  },
  {
   "cell_type": "code",
   "execution_count": 45,
   "metadata": {},
   "outputs": [
    {
     "name": "stdout",
     "output_type": "stream",
     "text": [
      "Epoca 1 --- Costo: 0.69315 \n",
      "Epoca 101 --- Costo: 1.04898 \n",
      "Epoca 201 --- Costo: 0.91663 \n",
      "Epoca 301 --- Costo: 0.84524 \n",
      "Epoca 401 --- Costo: 0.79414 \n",
      "Epoca 501 --- Costo: 0.75319 \n",
      "Epoca 601 --- Costo: 0.71877 \n",
      "Epoca 701 --- Costo: 0.68907 \n",
      "Epoca 801 --- Costo: 0.66296 \n",
      "Epoca 901 --- Costo: 0.63964 \n",
      "Epoca 1001 --- Costo: 0.61857 \n",
      "Epoca 1101 --- Costo: 0.59932 \n",
      "Epoca 1201 --- Costo: 0.58160 \n",
      "Epoca 1301 --- Costo: 0.56517 \n",
      "Epoca 1401 --- Costo: 0.54986 \n",
      "Epoca 1501 --- Costo: 0.53550 \n",
      "Epoca 1601 --- Costo: 0.52200 \n",
      "Epoca 1701 --- Costo: 0.50924 \n",
      "Epoca 1801 --- Costo: 0.49715 \n",
      "Epoca 1901 --- Costo: 0.48566 \n",
      "Exactitud de entrenamiento: 77.5625\n",
      "Exactitud de Testing: 77.5625\n"
     ]
    }
   ],
   "source": [
    "ann = NeuralNetwork(X_train_f, y_train_f, X_test_f, y_test_f, epochs=2_000, lr=5e-3, verbose=True)"
   ]
  },
  {
   "cell_type": "code",
   "execution_count": 46,
   "metadata": {},
   "outputs": [
    {
     "name": "stdout",
     "output_type": "stream",
     "text": [
      "Parámetros del modelo\n",
      "      w: (12288, 1)\n",
      "      b: 0.3133670000590784\n"
     ]
    }
   ],
   "source": [
    "print(f\"\"\"Parámetros del modelo\n",
    "      w: {ann.get(\"w\").shape}\n",
    "      b: {ann.get(\"b\")}\"\"\")"
   ]
  },
  {
   "cell_type": "code",
   "execution_count": 47,
   "metadata": {},
   "outputs": [
    {
     "data": {
      "image/png": "[encoded data removed]",
      "text/plain": [
       "<Figure size 640x480 with 1 Axes>"
      ]
     },
     "metadata": {},
     "output_type": "display_data"
    }
   ],
   "source": [
    "# REalizaremos una inferencia y veremos que nos dice el modelo\n",
    "index = np.random.randint(len(X_test))\n",
    "rnd_img = X_test[index]\n",
    "true_label = y_test[index]\n",
    "pred_label = ann[\"y_pred_test\"][0, index]\n",
    "\n",
    "plt.imshow(X_train[index])\n",
    "plt.title(f\"Image: {index}; etiqueta {etiquetas[true_label]}, predicción: {etiquetas[pred_label]}\")\n",
    "plt.axis(False)\n",
    "plt.show()"
   ]
  },
  {
   "cell_type": "code",
   "execution_count": 48,
   "metadata": {},
   "outputs": [
    {
     "data": {
      "image/png": "[encoded data removed]",
      "text/plain": [
       "<Figure size 640x480 with 1 Axes>"
      ]
     },
     "metadata": {},
     "output_type": "display_data"
    }
   ],
   "source": [
    "# Observemos la gráfica de costos\n",
    "costs = np.squeeze(ann[\"costs\"])\n",
    "plt.plot(costs)\n",
    "plt.ylabel('Costo')\n",
    "plt.xlabel('Epoca (cada 100)')\n",
    "plt.title(\"Tasa de aprendizaje =\" + str(ann[\"learning_rate\"]))\n",
    "plt.show()"
   ]
  },
  {
   "cell_type": "code",
   "execution_count": null,
   "metadata": {},
   "outputs": [],
   "source": []
  }
 ],
 "metadata": {
  "kernelspec": {
   "display_name": "venv",
   "language": "python",
   "name": "python3"
  },
  "language_info": {
   "codemirror_mode": {
    "name": "ipython",
    "version": 3
   },
   "file_extension": ".py",
   "mimetype": "text/x-python",
   "name": "python",
   "nbconvert_exporter": "python",
   "pygments_lexer": "ipython3",
   "version": "3.12.7"
  }
 },
 "nbformat": 4,
 "nbformat_minor": 2
}
