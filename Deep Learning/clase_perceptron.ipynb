{
 "cells": [
  {
   "cell_type": "code",
   "execution_count": 8,
   "metadata": {},
   "outputs": [],
   "source": [
    "# Importamos las librerías necesarias\n",
    "import numpy as np\n",
    "import matplotlib.pyplot as plt\n",
    "import seaborn as sns\n",
    "import copy\n",
    "from PIL import Image\n",
    "from scipy import ndimage\n",
    "import os\n",
    "from sklearn.preprocessing import LabelEncoder"
   ]
  },
  {
   "cell_type": "code",
   "execution_count": 9,
   "metadata": {},
   "outputs": [
    {
     "name": "stdout",
     "output_type": "stream",
     "text": [
      "(15, 64, 64, 3)\n",
      "(15,)\n"
     ]
    }
   ],
   "source": [
    "base_path = \"./cat-bunny/test-images/\"\n",
    "\n",
    "def load_category(base_path, cat):\n",
    "    X = []\n",
    "    y = []\n",
    "    path = os.path.join(base_path, cat)\n",
    "\n",
    "    for img_name in os.listdir(path):\n",
    "        img_path = os.path.join(path, img_name)\n",
    "\n",
    "        try:\n",
    "            img = Image.open(img_path).convert(\"RGB\")\n",
    "            img = img.resize((64, 64))\n",
    "\n",
    "            X.append(np.array(img))\n",
    "\n",
    "            if cat == \"cat\":\n",
    "                y.append(1)\n",
    "\n",
    "            else:\n",
    "                y.append(0)\n",
    "\n",
    "        except Exception as err:\n",
    "            print(f\"[Error] Fallo en la carga. {err}\")\n",
    "    \n",
    "    return np.array(X), np.array(y)\n",
    "\n",
    "X_test = []; y_test = []\n",
    "\n",
    "for cat in [\"cat\", \"rabbit\"]:\n",
    "    base_path = \"./cat-bunny/test-images/\"\n",
    "    X, y = load_category(base_path, cat)\n",
    "\n",
    "    X_test.append(X); y_test.append(y)\n",
    "\n",
    "X_test = np.vstack([X_test[0], X_test[1]])\n",
    "y_test = np.hstack([y_test[0], y_test[1]])\n",
    "\n",
    "print(X_test.shape)\n",
    "print(np.array(y_test).shape)"
   ]
  },
  {
   "cell_type": "code",
   "execution_count": 10,
   "metadata": {},
   "outputs": [
    {
     "data": {
      "text/plain": [
       "array([0, 1])"
      ]
     },
     "execution_count": 10,
     "metadata": {},
     "output_type": "execute_result"
    }
   ],
   "source": [
    "np.unique(y_test)"
   ]
  },
  {
   "cell_type": "code",
   "execution_count": 11,
   "metadata": {},
   "outputs": [
    {
     "name": "stdout",
     "output_type": "stream",
     "text": [
      "(15, 64, 64, 3)\n",
      "(15,)\n"
     ]
    }
   ],
   "source": [
    "X_train = []; y_train = []\n",
    "\n",
    "for cat in [\"cat\", \"rabbit\"]:\n",
    "    base_path = \"./cat-bunny/test-images/\"\n",
    "    X, y = load_category(base_path, cat)\n",
    "\n",
    "    X_train.append(X); y_train.append(y)\n",
    "\n",
    "X_train = np.vstack([X_train[0], X_train[1]])\n",
    "y_train = np.hstack([y_train[0], y_train[1]])\n",
    "\n",
    "print(X_train.shape)\n",
    "print(np.array(y_train).shape)"
   ]
  },
  {
   "cell_type": "code",
   "execution_count": 13,
   "metadata": {},
   "outputs": [],
   "source": [
    "etiquetas = {0:\"conejo\",\n",
    "             1:\"gato\"}"
   ]
  },
  {
   "cell_type": "code",
   "execution_count": null,
   "metadata": {},
   "outputs": [],
   "source": [
    "index = np.random.randint()"
   ]
  }
 ],
 "metadata": {
  "kernelspec": {
   "display_name": "venv",
   "language": "python",
   "name": "python3"
  },
  "language_info": {
   "codemirror_mode": {
    "name": "ipython",
    "version": 3
   },
   "file_extension": ".py",
   "mimetype": "text/x-python",
   "name": "python",
   "nbconvert_exporter": "python",
   "pygments_lexer": "ipython3",
   "version": "3.12.7"
  }
 },
 "nbformat": 4,
 "nbformat_minor": 2
}
