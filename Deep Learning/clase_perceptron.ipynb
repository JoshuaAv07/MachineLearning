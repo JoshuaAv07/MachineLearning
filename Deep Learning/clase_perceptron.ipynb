{
 "cells": [
  {
   "cell_type": "code",
   "execution_count": 8,
   "metadata": {},
   "outputs": [],
   "source": [
    "# Importamos las librerías necesarias\n",
    "import numpy as np\n",
    "import matplotlib.pyplot as plt\n",
    "import seaborn as sns\n",
    "import copy\n",
    "from PIL import Image\n",
    "from scipy import ndimage\n",
    "import os\n",
    "from sklearn.preprocessing import LabelEncoder"
   ]
  },
  {
   "cell_type": "code",
   "execution_count": 9,
   "metadata": {},
   "outputs": [
    {
     "name": "stdout",
     "output_type": "stream",
     "text": [
      "(15, 64, 64, 3)\n",
      "(15,)\n"
     ]
    }
   ],
   "source": [
    "base_path = \"./cat-bunny/test-images/\"\n",
    "\n",
    "def load_category(base_path, cat):\n",
    "    X = []\n",
    "    y = []\n",
    "    path = os.path.join(base_path, cat)\n",
    "\n",
    "    for img_name in os.listdir(path):\n",
    "        img_path = os.path.join(path, img_name)\n",
    "\n",
    "        try:\n",
    "            img = Image.open(img_path).convert(\"RGB\")\n",
    "            img = img.resize((64, 64))\n",
    "\n",
    "            X.append(np.array(img))\n",
    "\n",
    "            if cat == \"cat\":\n",
    "                y.append(1)\n",
    "\n",
    "            else:\n",
    "                y.append(0)\n",
    "\n",
    "        except Exception as err:\n",
    "            print(f\"[Error] Fallo en la carga. {err}\")\n",
    "    \n",
    "    return np.array(X), np.array(y)\n",
    "\n",
    "X_test = []; y_test = []\n",
    "\n",
    "for cat in [\"cat\", \"rabbit\"]:\n",
    "    base_path = \"./cat-bunny/test-images/\"\n",
    "    X, y = load_category(base_path, cat)\n",
    "\n",
    "    X_test.append(X); y_test.append(y)\n",
    "\n",
    "X_test = np.vstack([X_test[0], X_test[1]])\n",
    "y_test = np.hstack([y_test[0], y_test[1]])\n",
    "\n",
    "print(X_test.shape)\n",
    "print(np.array(y_test).shape)"
   ]
  },
  {
   "cell_type": "code",
   "execution_count": 10,
   "metadata": {},
   "outputs": [
    {
     "data": {
      "text/plain": [
       "array([0, 1])"
      ]
     },
     "execution_count": 10,
     "metadata": {},
     "output_type": "execute_result"
    }
   ],
   "source": [
    "np.unique(y_test)"
   ]
  },
  {
   "cell_type": "code",
   "execution_count": 11,
   "metadata": {},
   "outputs": [
    {
     "name": "stdout",
     "output_type": "stream",
     "text": [
      "(15, 64, 64, 3)\n",
      "(15,)\n"
     ]
    }
   ],
   "source": [
    "X_train = []; y_train = []\n",
    "\n",
    "for cat in [\"cat\", \"rabbit\"]:\n",
    "    base_path = \"./cat-bunny/test-images/\"\n",
    "    X, y = load_category(base_path, cat)\n",
    "\n",
    "    X_train.append(X); y_train.append(y)\n",
    "\n",
    "X_train = np.vstack([X_train[0], X_train[1]])\n",
    "y_train = np.hstack([y_train[0], y_train[1]])\n",
    "\n",
    "print(X_train.shape)\n",
    "print(np.array(y_train).shape)"
   ]
  },
  {
   "cell_type": "code",
   "execution_count": 13,
   "metadata": {},
   "outputs": [],
   "source": [
    "etiquetas = {0:\"conejo\",\n",
    "             1:\"gato\"}"
   ]
  },
  {
   "cell_type": "code",
   "execution_count": null,
   "metadata": {},
   "outputs": [
    {
     "ename": "TypeError",
     "evalue": "randint() takes at least 1 positional argument (0 given)",
     "output_type": "error",
     "traceback": [
      "\u001b[1;31m------------------------------------------------------------------\u001b[0m",
      "\u001b[1;31mTypeError\u001b[0m                        Traceback (most recent call last)",
      "Cell \u001b[1;32mIn[16], line 1\u001b[0m\n\u001b[1;32m----> 1\u001b[0m index \u001b[38;5;241m=\u001b[39m \u001b[43mnp\u001b[49m\u001b[38;5;241;43m.\u001b[39;49m\u001b[43mrandom\u001b[49m\u001b[38;5;241;43m.\u001b[39;49m\u001b[43mrandint\u001b[49m\u001b[43m(\u001b[49m\u001b[43m)\u001b[49m\n\u001b[0;32m      2\u001b[0m plt\u001b[38;5;241m.\u001b[39minshow(X_train[index])\n\u001b[0;32m      3\u001b[0m plt\u001b[38;5;241m.\u001b[39mtitle()\n",
      "File \u001b[1;32mnumpy\\\\random\\\\mtrand.pyx:688\u001b[0m, in \u001b[0;36mnumpy.random.mtrand.RandomState.randint\u001b[1;34m()\u001b[0m\n",
      "\u001b[1;31mTypeError\u001b[0m: randint() takes at least 1 positional argument (0 given)"
     ]
    }
   ],
   "source": [
    "index = np.random.randint()\n",
    "plt.inshow(X_train[index])\n",
    "#plt.title(f\"Imagen {index}; etiqueta: {}\")\n",
    "plt.axis(False)\n",
    "plt.show()"
   ]
  },
  {
   "cell_type": "code",
   "execution_count": 21,
   "metadata": {},
   "outputs": [
    {
     "ename": "TypeError",
     "evalue": "only integer scalar arrays can be converted to a scalar index",
     "output_type": "error",
     "traceback": [
      "\u001b[1;31m------------------------------------------------------------------\u001b[0m",
      "\u001b[1;31mTypeError\u001b[0m                        Traceback (most recent call last)",
      "Cell \u001b[1;32mIn[21], line 1\u001b[0m\n\u001b[1;32m----> 1\u001b[0m X_train_f \u001b[38;5;241m=\u001b[39m \u001b[43mX_train\u001b[49m\u001b[38;5;241;43m.\u001b[39;49m\u001b[43mreshape\u001b[49m\u001b[43m(\u001b[49m\u001b[43mX_train\u001b[49m\u001b[43m[\u001b[49m\u001b[38;5;241;43m0\u001b[39;49m\u001b[43m]\u001b[49m\u001b[43m,\u001b[49m\u001b[43m \u001b[49m\u001b[38;5;241;43m64\u001b[39;49m\u001b[38;5;241;43m*\u001b[39;49m\u001b[38;5;241;43m64\u001b[39;49m\u001b[38;5;241;43m*\u001b[39;49m\u001b[38;5;241;43m3\u001b[39;49m\u001b[43m)\u001b[49m\u001b[38;5;241m.\u001b[39mT\n\u001b[0;32m      2\u001b[0m y_train_f \u001b[38;5;241m=\u001b[39m y_train\u001b[38;5;241m.\u001b[39mreshape(y_train[\u001b[38;5;241m0\u001b[39m], \u001b[38;5;241m-\u001b[39m\u001b[38;5;241m1\u001b[39m)\u001b[38;5;241m.\u001b[39mT\n\u001b[0;32m      4\u001b[0m \u001b[38;5;28mprint\u001b[39m(X_train_f\u001b[38;5;241m.\u001b[39mshape)\n",
      "\u001b[1;31mTypeError\u001b[0m: only integer scalar arrays can be converted to a scalar index"
     ]
    }
   ],
   "source": [
    "X_train_f = X_train.reshape(X_train[0], 64*64*3).T\n",
    "y_train_f = y_train.reshape(y_train[0], -1).T\n",
    "\n",
    "print(X_train_f.shape)\n",
    "print(y_train_f.shape)\n"
   ]
  },
  {
   "cell_type": "code",
   "execution_count": 24,
   "metadata": {},
   "outputs": [
    {
     "name": "stdout",
     "output_type": "stream",
     "text": [
      "(12288, 15)\n",
      "(1, 15)\n"
     ]
    }
   ],
   "source": [
    "def flatted(vector1, vector2):\n",
    "    vector1 = vector1.reshape(vector1.shape[0], -1).T\n",
    "    vector2 = vector2.reshape(vector2.shape[0], -1).T\n",
    "    return vector1, vector2\n",
    "\n",
    "X_test_f, y_test_f = flatted(X_test, y_test)\n",
    "\n",
    "print(X_test_f.shape)\n",
    "print(y_test_f.shape)"
   ]
  },
  {
   "cell_type": "code",
   "execution_count": 26,
   "metadata": {},
   "outputs": [
    {
     "ename": "NameError",
     "evalue": "name 'X_train_f' is not defined",
     "output_type": "error",
     "traceback": [
      "\u001b[1;31m------------------------------------------------------------------\u001b[0m",
      "\u001b[1;31mNameError\u001b[0m                        Traceback (most recent call last)",
      "Cell \u001b[1;32mIn[26], line 2\u001b[0m\n\u001b[0;32m      1\u001b[0m X_test_f \u001b[38;5;241m=\u001b[39m X_test_f \u001b[38;5;241m/\u001b[39m \u001b[38;5;241m255\u001b[39m\n\u001b[1;32m----> 2\u001b[0m X_train_f \u001b[38;5;241m=\u001b[39m \u001b[43mX_train_f\u001b[49m \u001b[38;5;241m/\u001b[39m \u001b[38;5;241m255\u001b[39m \n\u001b[0;32m      4\u001b[0m X_test_f[\u001b[38;5;241m0\u001b[39m]\n",
      "\u001b[1;31mNameError\u001b[0m: name 'X_train_f' is not defined"
     ]
    }
   ],
   "source": [
    "X_test_f = X_test_f / 255\n",
    "X_train_f = X_train_f / 255 \n",
    "\n",
    "X_test_f[0]"
   ]
  },
  {
   "cell_type": "code",
   "execution_count": 28,
   "metadata": {},
   "outputs": [
    {
     "data": {
      "text/plain": [
       "np.float64(0.0)"
      ]
     },
     "execution_count": 28,
     "metadata": {},
     "output_type": "execute_result"
    }
   ],
   "source": [
    "X_test_f.min()"
   ]
  },
  {
   "cell_type": "markdown",
   "metadata": {},
   "source": [
    "------------"
   ]
  },
  {
   "cell_type": "code",
   "execution_count": null,
   "metadata": {},
   "outputs": [],
   "source": [
    "def sigmond(z):\n",
    "    a= 1 / (1 + np.exp(-z))\n",
    "    return a\n",
    "\n",
    "sigmod(np.array([-3, -2, -1, 0, 1, 2, 3]))"
   ]
  }
 ],
 "metadata": {
  "kernelspec": {
   "display_name": "venv",
   "language": "python",
   "name": "python3"
  },
  "language_info": {
   "codemirror_mode": {
    "name": "ipython",
    "version": 3
   },
   "file_extension": ".py",
   "mimetype": "text/x-python",
   "name": "python",
   "nbconvert_exporter": "python",
   "pygments_lexer": "ipython3",
   "version": "3.12.7"
  }
 },
 "nbformat": 4,
 "nbformat_minor": 2
}
