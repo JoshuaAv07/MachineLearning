{
 "cells": [
  {
   "cell_type": "code",
   "execution_count": 24,
   "metadata": {},
   "outputs": [],
   "source": [
    "# Importamos las librerías necesarias\n",
    "import numpy as np\n",
    "import matplotlib.pyplot as plt\n",
    "import seaborn as sns\n",
    "from load_catbunny import load_set\n",
    "from PIL import Image"
   ]
  },
  {
   "cell_type": "code",
   "execution_count": 25,
   "metadata": {},
   "outputs": [
    {
     "name": "stdout",
     "output_type": "stream",
     "text": [
      "X_train:  (1600, 64, 64, 3) y_train:  (1600,)\n",
      "X_test:  (15, 64, 64, 3) y_test:  (15,)\n",
      "X_val:  (414, 64, 64, 3) y_val:  (414,)\n"
     ]
    }
   ],
   "source": [
    "# Cargamos los datasets\n",
    "X_train, y_train = load_set(\"./cat-bunny/train-cat-rabbit/\")\n",
    "X_test, y_test = load_set(\"./cat-bunny/test-images/\")\n",
    "X_val, y_val = load_set(\"./cat-bunny/val-cat-rabbit/\")\n",
    "\n",
    "print(\"X_train: \", X_train.shape, \"y_train: \", y_train.shape)\n",
    "print(\"X_test: \", X_test.shape, \"y_test: \", y_test.shape)\n",
    "print(\"X_val: \", X_val.shape, \"y_val: \", y_val.shape)"
   ]
  },
  {
   "cell_type": "code",
   "execution_count": 26,
   "metadata": {},
   "outputs": [],
   "source": [
    "def load_image(path):\n",
    "    img = Image.open(path).convert(\"RGB\")\n",
    "    img = img.resize((64, 64))\n",
    "    \n",
    "    return np.array(img) / 255.0"
   ]
  },
  {
   "cell_type": "code",
   "execution_count": 27,
   "metadata": {},
   "outputs": [],
   "source": [
    "import torch\n",
    "import torch.nn as nn\n",
    "import torch.optim as optim\n",
    "from torch.utils.data import DataLoader, TensorDataset"
   ]
  },
  {
   "cell_type": "code",
   "execution_count": 28,
   "metadata": {},
   "outputs": [],
   "source": [
    "class MLP(nn.Module):\n",
    "    def __init__(self, input_size:int, layer_sizes:list):\n",
    "        super(MLP, self).__init__()\n",
    "        \n",
    "        self.layer_sizes = layer_sizes\n",
    "        self.num_layers = len(layer_sizes)\n",
    "        \n",
    "        # Inicializar pesos y bias\n",
    "        self.weights = nn.ParameterList()\n",
    "        self.biases = nn.ParameterList()\n",
    "        \n",
    "        # ======== Primer Capa ==========\n",
    "        W = nn.Parameter(torch.randn(input_size, layer_sizes[0]) * 0.01)\n",
    "        b = nn.Parameter(torch.zeros(layer_sizes[0]))\n",
    "        \n",
    "        self.weights.append(W)\n",
    "        self.biases.append(b)\n",
    "        \n",
    "        # ====== Capas Ocultas =====\n",
    "        for i in range(1, self.num_layers):\n",
    "            # El tamaño es la capa anterior (input) y el tamaño de salida (actual)\n",
    "            W = nn.Parameter(torch.randn(layer_sizes[i-1], layer_sizes[i]) * 0.01)\n",
    "            b = nn.Parameter(torch.zeros(layer_sizes[i]))\n",
    "            \n",
    "            self.weights.append(W)\n",
    "            self.biases.append(b)\n",
    "            \n",
    "        # ====== Capa de salida =====\n",
    "        W_out = nn.Parameter(torch.randn(layer_sizes[-1], 1) * 0.01)\n",
    "        b_out = nn.Parameter(torch.zeros(1))\n",
    "        \n",
    "        self.weights.append(W_out)\n",
    "        self.biases.append(b_out)\n",
    "        \n",
    "    \n",
    "    def forward(self, x):\n",
    "        if x.dim() > 2:\n",
    "            x = x.view(x.size(0), -1)\n",
    "        \n",
    "        # Iteramos sobre las cpaas\n",
    "        for i in range(self.num_layers):\n",
    "            x = torch.matmul(x, self.weights[i]) + self.biases[i]\n",
    "            x = torch.relu(x)\n",
    "            \n",
    "        # Capa de salida\n",
    "        x = torch.matmul(x, self.weights[-1]) + self.biases[-1]\n",
    "        x = torch.sigmoid(x)\n",
    "        \n",
    "        return x.squeeze()\n",
    "        \n",
    "        "
   ]
  },
  {
   "cell_type": "code",
   "execution_count": 29,
   "metadata": {},
   "outputs": [],
   "source": [
    "def train_torch(model, train_loader, test_loader, criterion, optimizer, epochs, device=None, verbose=True):\n",
    "    if not device:\n",
    "        device = torch.device(\"cpu\")\n",
    "        model = model.to(device)\n",
    "        # train_loader = train_loader.to(device)\n",
    "        test_loader = test_loader.to(device)\n",
    "        \n",
    "    all_losses = []\n",
    "    test_acc_values = []\n",
    "    model.train()\n",
    "    \n",
    "    for epoch in range(epochs):\n",
    "        total_loss = 0\n",
    "        \n",
    "        for data, target, in train_loader:\n",
    "            data, target = data.to(device), target.to(device).float()\n",
    "            \n",
    "            optimizer.zero_grad()\n",
    "            y_pred = model(data)\n",
    "            \n",
    "            loss = criterion(y_pred, target[:, 0])\n",
    "            loss.backward()\n",
    "            optimizer.step()\n",
    "            \n",
    "            total_loss += loss.item()\n",
    "            all_losses.append(total_loss)  \n",
    "        # inner for\n",
    "        \n",
    "        avg_loss = total_loss / len(train_loader)\n",
    "        \n",
    "        with torch.no_grad():\n",
    "            total = 0\n",
    "            correct = 0\n",
    "            for data, target in test_loader:\n",
    "                data, target = data.to(device), target.to(device).float()\n",
    "                y_pred = model(data)\n",
    "                \n",
    "                predictions = (y_pred >= 0.5).float()\n",
    "                total += target.size(0)\n",
    "                correct += (predictions == target).sum().item()\n",
    "                \n",
    "        test_acc = correct / total\n",
    "        test_acc_values.append(test_acc)\n",
    "            \n",
    "        if verbose:\n",
    "            print(f\"[Epoca {epoch}] Train loss: {avg_loss:.5f}\")\n",
    "            \n",
    "    return all_losses, test_acc_values             \n",
    "    \n",
    "        "
   ]
  },
  {
   "cell_type": "code",
   "execution_count": 30,
   "metadata": {},
   "outputs": [],
   "source": [
    "# Utilizaremos nuestro dataset de gatos y conejos.\n",
    "# Necesitamos estandarizar los datos\n",
    "# Convertimos a tensores de PyTorch\n",
    "# Aplanamos\n",
    "X_trainPT = torch.tensor(X_train, dtype=torch.float32).view(X_train.shape[0], -1)\n",
    "X_testPT = torch.tensor(X_test, dtype=torch.float32).view(X_test.shape[0], -1)\n",
    "y_trainPT = torch.tensor(y_train, dtype=torch.float32).view(-1, 1)\n",
    "y_testPT = torch.tensor(y_test, dtype=torch.float32).view(-1, 1)\n",
    "\n",
    "# Creamos los DataLoader\n",
    "train_dataset = TensorDataset(X_trainPT, y_trainPT)\n",
    "test_dataset = TensorDataset(X_testPT, y_testPT)\n",
    "\n",
    "train_loader = DataLoader(train_dataset, batch_size=32, shuffle=True)\n",
    "test_loader = DataLoader(train_dataset, batch_size=15, shuffle=True)"
   ]
  },
  {
   "cell_type": "code",
   "execution_count": 31,
   "metadata": {},
   "outputs": [
    {
     "name": "stdout",
     "output_type": "stream",
     "text": [
      "Dispositivo:  cpu\n"
     ]
    },
    {
     "data": {
      "text/plain": [
       "MLP(\n",
       "  (weights): ParameterList(\n",
       "      (0): Parameter containing: [torch.float32 of size 12288x64]\n",
       "      (1): Parameter containing: [torch.float32 of size 64x32]\n",
       "      (2): Parameter containing: [torch.float32 of size 32x1]\n",
       "  )\n",
       "  (biases): ParameterList(\n",
       "      (0): Parameter containing: [torch.float32 of size 64]\n",
       "      (1): Parameter containing: [torch.float32 of size 32]\n",
       "      (2): Parameter containing: [torch.float32 of size 1]\n",
       "  )\n",
       ")"
      ]
     },
     "execution_count": 31,
     "metadata": {},
     "output_type": "execute_result"
    }
   ],
   "source": [
    "# Configuración\n",
    "device = torch.device(\"cuda\" if torch.cuda.is_available() else \"cpu\")\n",
    "\n",
    "print(\"Dispositivo: \", device)\n",
    "\n",
    "# Neuronas de entrada\n",
    "input_size = X_trainPT.shape[1]\n",
    "# Cantidad de neuronas en hidden\n",
    "layer_sizes = [64, 32] # 16 8 4 2 1\n",
    "\n",
    "model = MLP(input_size, layer_sizes)\n",
    "model.to(device)"
   ]
  },
  {
   "cell_type": "code",
   "execution_count": 32,
   "metadata": {},
   "outputs": [
    {
     "name": "stdout",
     "output_type": "stream",
     "text": [
      "Parameter: 786432\n",
      "Parameter: 2048\n",
      "Parameter: 32\n",
      "Parameter: 64\n",
      "Parameter: 32\n",
      "Parameter: 1\n",
      "Total params:  788609\n"
     ]
    }
   ],
   "source": [
    "total = 0\n",
    "for param in model.parameters():\n",
    "    num = param.numel()\n",
    "    print(f\"{param.__class__.__name__}: {num}\")\n",
    "    total += num\n",
    "    \n",
    "print(\"Total params: \", total)"
   ]
  },
  {
   "cell_type": "code",
   "execution_count": 33,
   "metadata": {},
   "outputs": [],
   "source": [
    "# Definimos la funcion de pérdida y optimizador\n",
    "criterion = nn.BCELoss()\n",
    "optimizer = optim.SGD(model.parameters(), lr=0.01)"
   ]
  },
  {
   "cell_type": "code",
   "execution_count": 34,
   "metadata": {},
   "outputs": [
    {
     "name": "stdout",
     "output_type": "stream",
     "text": [
      "[Epoca 0] Train loss: 0.69318\n",
      "[Epoca 1] Train loss: 0.69314\n",
      "[Epoca 2] Train loss: 0.69312\n",
      "[Epoca 3] Train loss: 0.69311\n",
      "[Epoca 4] Train loss: 0.69306\n",
      "[Epoca 5] Train loss: 0.69303\n",
      "[Epoca 6] Train loss: 0.69298\n",
      "[Epoca 7] Train loss: 0.69293\n",
      "[Epoca 8] Train loss: 0.69288\n",
      "[Epoca 9] Train loss: 0.69280\n",
      "[Epoca 10] Train loss: 0.69272\n",
      "[Epoca 11] Train loss: 0.69262\n",
      "[Epoca 12] Train loss: 0.69250\n",
      "[Epoca 13] Train loss: 0.69232\n",
      "[Epoca 14] Train loss: 0.69211\n",
      "[Epoca 15] Train loss: 0.69180\n",
      "[Epoca 16] Train loss: 0.69142\n",
      "[Epoca 17] Train loss: 0.69092\n",
      "[Epoca 18] Train loss: 0.69024\n",
      "[Epoca 19] Train loss: 0.68935\n",
      "[Epoca 20] Train loss: 0.68834\n",
      "[Epoca 21] Train loss: 0.68695\n",
      "[Epoca 22] Train loss: 0.68543\n",
      "[Epoca 23] Train loss: 0.68327\n",
      "[Epoca 24] Train loss: 0.68074\n",
      "[Epoca 25] Train loss: 0.67718\n",
      "[Epoca 26] Train loss: 0.67234\n",
      "[Epoca 27] Train loss: 0.66594\n",
      "[Epoca 28] Train loss: 0.65842\n",
      "[Epoca 29] Train loss: 0.64935\n",
      "[Epoca 30] Train loss: 0.63965\n",
      "[Epoca 31] Train loss: 0.62709\n",
      "[Epoca 32] Train loss: 0.61531\n",
      "[Epoca 33] Train loss: 0.60324\n",
      "[Epoca 34] Train loss: 0.59141\n",
      "[Epoca 35] Train loss: 0.57872\n",
      "[Epoca 36] Train loss: 0.56422\n",
      "[Epoca 37] Train loss: 0.55773\n",
      "[Epoca 38] Train loss: 0.54477\n",
      "[Epoca 39] Train loss: 0.54081\n",
      "[Epoca 40] Train loss: 0.52043\n",
      "[Epoca 41] Train loss: 0.53431\n",
      "[Epoca 42] Train loss: 0.51772\n",
      "[Epoca 43] Train loss: 0.51656\n",
      "[Epoca 44] Train loss: 0.49198\n",
      "[Epoca 45] Train loss: 0.48730\n",
      "[Epoca 46] Train loss: 0.49136\n",
      "[Epoca 47] Train loss: 0.46260\n",
      "[Epoca 48] Train loss: 0.46878\n",
      "[Epoca 49] Train loss: 0.45752\n",
      "[Epoca 50] Train loss: 0.44716\n",
      "[Epoca 51] Train loss: 0.47898\n",
      "[Epoca 52] Train loss: 0.46512\n",
      "[Epoca 53] Train loss: 0.40748\n",
      "[Epoca 54] Train loss: 0.44284\n",
      "[Epoca 55] Train loss: 0.39671\n",
      "[Epoca 56] Train loss: 0.40940\n",
      "[Epoca 57] Train loss: 0.38825\n",
      "[Epoca 58] Train loss: 0.35740\n",
      "[Epoca 59] Train loss: 0.36365\n",
      "[Epoca 60] Train loss: 0.36498\n",
      "[Epoca 61] Train loss: 0.36658\n",
      "[Epoca 62] Train loss: 0.35970\n",
      "[Epoca 63] Train loss: 0.34998\n",
      "[Epoca 64] Train loss: 0.34548\n",
      "[Epoca 65] Train loss: 0.37814\n",
      "[Epoca 66] Train loss: 0.30507\n",
      "[Epoca 67] Train loss: 0.32714\n",
      "[Epoca 68] Train loss: 0.32926\n",
      "[Epoca 69] Train loss: 0.31566\n",
      "[Epoca 70] Train loss: 0.28059\n",
      "[Epoca 71] Train loss: 0.29650\n",
      "[Epoca 72] Train loss: 0.29553\n",
      "[Epoca 73] Train loss: 0.27688\n",
      "[Epoca 74] Train loss: 0.28360\n",
      "[Epoca 75] Train loss: 0.28512\n",
      "[Epoca 76] Train loss: 0.26348\n",
      "[Epoca 77] Train loss: 0.29083\n",
      "[Epoca 78] Train loss: 0.23930\n",
      "[Epoca 79] Train loss: 0.24395\n",
      "[Epoca 80] Train loss: 0.30151\n",
      "[Epoca 81] Train loss: 0.27361\n",
      "[Epoca 82] Train loss: 0.29612\n",
      "[Epoca 83] Train loss: 0.22399\n",
      "[Epoca 84] Train loss: 0.25223\n",
      "[Epoca 85] Train loss: 0.23626\n",
      "[Epoca 86] Train loss: 0.21745\n",
      "[Epoca 87] Train loss: 0.20376\n",
      "[Epoca 88] Train loss: 0.24799\n",
      "[Epoca 89] Train loss: 0.25478\n",
      "[Epoca 90] Train loss: 0.20776\n",
      "[Epoca 91] Train loss: 0.22869\n",
      "[Epoca 92] Train loss: 0.20026\n",
      "[Epoca 93] Train loss: 0.20473\n",
      "[Epoca 94] Train loss: 0.20356\n",
      "[Epoca 95] Train loss: 0.19234\n",
      "[Epoca 96] Train loss: 0.23606\n",
      "[Epoca 97] Train loss: 0.15648\n",
      "[Epoca 98] Train loss: 0.19862\n",
      "[Epoca 99] Train loss: 0.15866\n"
     ]
    }
   ],
   "source": [
    "# Entrenamos\n",
    "num_epochs = 100\n",
    "all_losses, test_acc_values = train_torch(model,\n",
    "                                          train_loader,\n",
    "                                          test_loader,\n",
    "                                          criterion,\n",
    "                                          optimizer,\n",
    "                                          num_epochs,\n",
    "                                          device,\n",
    "                                          True)"
   ]
  },
  {
   "cell_type": "code",
   "execution_count": 35,
   "metadata": {},
   "outputs": [
    {
     "data": {
      "image/png": "[encoded data removed]",
      "text/plain": [
       "<Figure size 640x480 with 2 Axes>"
      ]
     },
     "metadata": {},
     "output_type": "display_data"
    }
   ],
   "source": [
    "#\n",
    "cat_img = load_image(\"./cat.jpg\")\n",
    "bun_img = load_image(\"./conejo.jpg\")\n",
    "\n",
    "plt.subplot(1, 2, 1)\n",
    "plt.imshow(cat_img); plt.axis(False); plt.title(\"Gato\")\n",
    "plt.subplot(1, 2, 2)\n",
    "plt.imshow(bun_img); plt.axis(False); plt.title(\"Conejo\")\n",
    "plt.show()"
   ]
  },
  {
   "cell_type": "code",
   "execution_count": 36,
   "metadata": {},
   "outputs": [
    {
     "name": "stdout",
     "output_type": "stream",
     "text": [
      "Cat shape:  (64, 64, 3)\n"
     ]
    }
   ],
   "source": [
    "print(\"Cat shape: \", cat_img.shape)"
   ]
  },
  {
   "cell_type": "code",
   "execution_count": 37,
   "metadata": {},
   "outputs": [
    {
     "data": {
      "text/plain": [
       "torch.Size([1, 64, 64, 3])"
      ]
     },
     "execution_count": 37,
     "metadata": {},
     "output_type": "execute_result"
    }
   ],
   "source": [
    "cat_imgT = torch.tensor(cat_img, dtype=torch.float32).unsqueeze(0)\n",
    "\n",
    "cat_imgT.shape"
   ]
  },
  {
   "cell_type": "code",
   "execution_count": 38,
   "metadata": {},
   "outputs": [],
   "source": [
    "bun_imgT = torch.tensor(bun_img, dtype=torch.float32).unsqueeze(0)"
   ]
  },
  {
   "cell_type": "code",
   "execution_count": 39,
   "metadata": {},
   "outputs": [
    {
     "name": "stdout",
     "output_type": "stream",
     "text": [
      "Predicción para el gato: 1.0, Certeza: 0.525711178779602\n",
      "Predicción para el conejo: 0.0, Certeza: 0.9624197483062744\n"
     ]
    }
   ],
   "source": [
    "model.eval()\n",
    "\n",
    "cat_label = model(cat_imgT.to(device)).detach().cpu().numpy()\n",
    "bun_label = model(bun_imgT.to(device)).detach().cpu().numpy()\n",
    "\n",
    "print(f\"Predicción para el gato: {np.round(cat_label)}, Certeza: {cat_label}\")\n",
    "print(f\"Predicción para el conejo: {np.round(bun_label)}, Certeza: {1-bun_label}\")"
   ]
  },
  {
   "cell_type": "markdown",
   "metadata": {},
   "source": [
    "----------------\n",
    "## Keras"
   ]
  },
  {
   "cell_type": "code",
   "execution_count": 40,
   "metadata": {},
   "outputs": [],
   "source": [
    "import tensorflow as tf\n",
    "from tensorflow.keras.models import Model\n",
    "from tensorflow.keras.layers import Input, Activation\n",
    "from tensorflow.keras.optimizers import SGD"
   ]
  },
  {
   "cell_type": "code",
   "execution_count": 41,
   "metadata": {},
   "outputs": [],
   "source": [
    "# Definimos el modelo\n",
    "class PerceptronLayer(tf.keras.layers.Layer):\n",
    "    def __init__(self, units, **kwargs):\n",
    "        super(PerceptronLayer, self).__init__(**kwargs)\n",
    "        self.units = units\n",
    "        \n",
    "    def build(self, input_shape):\n",
    "        # Inicializamos los parámetros\n",
    "        self.W = self.add_weight(shape=(input_shape[-1], self.units),\n",
    "                                 initializer='random_normal',\n",
    "                                 trainable=True,\n",
    "                                 name='W')\n",
    "        self.b = self.add_weight(shape=(self.units,),\n",
    "                                 initializer='zeros',\n",
    "                                 trainable=True,\n",
    "                                 name='b')\n",
    "        super(PerceptronLayer, self).build(input_shape)\n",
    "        \n",
    "        \n",
    "    def call(self, inputs):\n",
    "        return tf.matmul(inputs, self.W) + self.b\n",
    "    \n",
    "\n",
    "# Construcción del modelo\n",
    "def MLP_TF(input_size, layer_sizes):\n",
    "    inputs = Input(shape=(input_size,))\n",
    "    x = inputs\n",
    "\n",
    "    # Capas ocultas\n",
    "    for size in layer_sizes:\n",
    "        x = PerceptronLayer(size)(x)\n",
    "        x = Activation('relu')(x)\n",
    "\n",
    "    # Capa de salida\n",
    "    x = PerceptronLayer(1)(x)\n",
    "    outputs = Activation('sigmoid')(x)\n",
    "\n",
    "    # Crear el modelo\n",
    "    model = Model(inputs=inputs, outputs=outputs)\n",
    "    return model\n"
   ]
  },
  {
   "cell_type": "code",
   "execution_count": 42,
   "metadata": {},
   "outputs": [
    {
     "name": "stdout",
     "output_type": "stream",
     "text": [
      "X_train:  (1600, 12288) y_train:  (1600, 1)\n",
      "X_test:   (15, 12288)   y_test:   (15, 1)\n"
     ]
    }
   ],
   "source": [
    "# Aplanamos\n",
    "X_trainTF = X_train.reshape((X_train.shape[0], -1))\n",
    "X_testTF =  X_test.reshape((X_test.shape[0], -1))\n",
    "\n",
    "y_trainTF = y_train.reshape((y_train.shape[0], -1))\n",
    "y_testTF =  y_test.reshape((y_test.shape[0], -1))\n",
    "\n",
    "print(\"X_train: \", X_trainTF.shape, \"y_train: \", y_trainTF.shape)\n",
    "print(\"X_test:  \", X_testTF.shape, \"  y_test:  \", y_testTF.shape)"
   ]
  },
  {
   "cell_type": "code",
   "execution_count": 43,
   "metadata": {},
   "outputs": [
    {
     "name": "stdout",
     "output_type": "stream",
     "text": [
      "Dispositivos físicos disponibles:\n",
      "PhysicalDevice(name='/physical_device:CPU:0', device_type='CPU')\n"
     ]
    }
   ],
   "source": [
    "# Vemos si TensorFlow reconoce nuestra tarjeta gráfica\n",
    "print(\"Dispositivos físicos disponibles:\")\n",
    "for device in tf.config.list_physical_devices():\n",
    "    print(device)"
   ]
  },
  {
   "cell_type": "code",
   "execution_count": 44,
   "metadata": {},
   "outputs": [
    {
     "name": "stdout",
     "output_type": "stream",
     "text": [
      "WARNING:tensorflow:From c:\\Users\\07020\\Dev\\curso_ml\\venv\\Lib\\site-packages\\keras\\src\\backend\\tensorflow\\core.py:204: The name tf.placeholder is deprecated. Please use tf.compat.v1.placeholder instead.\n",
      "\n"
     ]
    },
    {
     "data": {
      "text/html": [
       "<pre style=\"white-space:pre;overflow-x:auto;line-height:normal;font-family:Menlo,'DejaVu Sans Mono',consolas,'Courier New',monospace\"><span style=\"font-weight: bold\">Model: \"functional\"</span>\n",
       "</pre>\n"
      ],
      "text/plain": [
       "\u001b[1mModel: \"functional\"\u001b[0m\n"
      ]
     },
     "metadata": {},
     "output_type": "display_data"
    },
    {
     "data": {
      "text/html": [
       "<pre style=\"white-space:pre;overflow-x:auto;line-height:normal;font-family:Menlo,'DejaVu Sans Mono',consolas,'Courier New',monospace\">┏━━━━━━━━━━━━━━━━━━━━━━━━━━┳━━━━━━━━━━━━━━━━━━━━┳━━━━━━━━━━━━┓\n",
       "┃<span style=\"font-weight: bold\"> Layer (type)             </span>┃<span style=\"font-weight: bold\"> Output Shape       </span>┃<span style=\"font-weight: bold\">    Param # </span>┃\n",
       "┡━━━━━━━━━━━━━━━━━━━━━━━━━━╇━━━━━━━━━━━━━━━━━━━━╇━━━━━━━━━━━━┩\n",
       "│ input_layer (<span style=\"color: #0087ff; text-decoration-color: #0087ff\">InputLayer</span>) │ (<span style=\"color: #00d7ff; text-decoration-color: #00d7ff\">None</span>, <span style=\"color: #00af00; text-decoration-color: #00af00\">12288</span>)      │          <span style=\"color: #00af00; text-decoration-color: #00af00\">0</span> │\n",
       "├──────────────────────────┼────────────────────┼────────────┤\n",
       "│ perceptron_layer         │ (<span style=\"color: #00d7ff; text-decoration-color: #00d7ff\">None</span>, <span style=\"color: #00af00; text-decoration-color: #00af00\">64</span>)         │    <span style=\"color: #00af00; text-decoration-color: #00af00\">786,496</span> │\n",
       "│ (<span style=\"color: #0087ff; text-decoration-color: #0087ff\">PerceptronLayer</span>)        │                    │            │\n",
       "├──────────────────────────┼────────────────────┼────────────┤\n",
       "│ activation (<span style=\"color: #0087ff; text-decoration-color: #0087ff\">Activation</span>)  │ (<span style=\"color: #00d7ff; text-decoration-color: #00d7ff\">None</span>, <span style=\"color: #00af00; text-decoration-color: #00af00\">64</span>)         │          <span style=\"color: #00af00; text-decoration-color: #00af00\">0</span> │\n",
       "├──────────────────────────┼────────────────────┼────────────┤\n",
       "│ perceptron_layer_1       │ (<span style=\"color: #00d7ff; text-decoration-color: #00d7ff\">None</span>, <span style=\"color: #00af00; text-decoration-color: #00af00\">32</span>)         │      <span style=\"color: #00af00; text-decoration-color: #00af00\">2,080</span> │\n",
       "│ (<span style=\"color: #0087ff; text-decoration-color: #0087ff\">PerceptronLayer</span>)        │                    │            │\n",
       "├──────────────────────────┼────────────────────┼────────────┤\n",
       "│ activation_1             │ (<span style=\"color: #00d7ff; text-decoration-color: #00d7ff\">None</span>, <span style=\"color: #00af00; text-decoration-color: #00af00\">32</span>)         │          <span style=\"color: #00af00; text-decoration-color: #00af00\">0</span> │\n",
       "│ (<span style=\"color: #0087ff; text-decoration-color: #0087ff\">Activation</span>)             │                    │            │\n",
       "├──────────────────────────┼────────────────────┼────────────┤\n",
       "│ perceptron_layer_2       │ (<span style=\"color: #00d7ff; text-decoration-color: #00d7ff\">None</span>, <span style=\"color: #00af00; text-decoration-color: #00af00\">1</span>)          │         <span style=\"color: #00af00; text-decoration-color: #00af00\">33</span> │\n",
       "│ (<span style=\"color: #0087ff; text-decoration-color: #0087ff\">PerceptronLayer</span>)        │                    │            │\n",
       "├──────────────────────────┼────────────────────┼────────────┤\n",
       "│ activation_2             │ (<span style=\"color: #00d7ff; text-decoration-color: #00d7ff\">None</span>, <span style=\"color: #00af00; text-decoration-color: #00af00\">1</span>)          │          <span style=\"color: #00af00; text-decoration-color: #00af00\">0</span> │\n",
       "│ (<span style=\"color: #0087ff; text-decoration-color: #0087ff\">Activation</span>)             │                    │            │\n",
       "└──────────────────────────┴────────────────────┴────────────┘\n",
       "</pre>\n"
      ],
      "text/plain": [
       "┏━━━━━━━━━━━━━━━━━━━━━━━━━━┳━━━━━━━━━━━━━━━━━━━━┳━━━━━━━━━━━━┓\n",
       "┃\u001b[1m \u001b[0m\u001b[1mLayer (type)            \u001b[0m\u001b[1m \u001b[0m┃\u001b[1m \u001b[0m\u001b[1mOutput Shape      \u001b[0m\u001b[1m \u001b[0m┃\u001b[1m \u001b[0m\u001b[1m   Param #\u001b[0m\u001b[1m \u001b[0m┃\n",
       "┡━━━━━━━━━━━━━━━━━━━━━━━━━━╇━━━━━━━━━━━━━━━━━━━━╇━━━━━━━━━━━━┩\n",
       "│ input_layer (\u001b[38;5;33mInputLayer\u001b[0m) │ (\u001b[38;5;45mNone\u001b[0m, \u001b[38;5;34m12288\u001b[0m)      │          \u001b[38;5;34m0\u001b[0m │\n",
       "├──────────────────────────┼────────────────────┼────────────┤\n",
       "│ perceptron_layer         │ (\u001b[38;5;45mNone\u001b[0m, \u001b[38;5;34m64\u001b[0m)         │    \u001b[38;5;34m786,496\u001b[0m │\n",
       "│ (\u001b[38;5;33mPerceptronLayer\u001b[0m)        │                    │            │\n",
       "├──────────────────────────┼────────────────────┼────────────┤\n",
       "│ activation (\u001b[38;5;33mActivation\u001b[0m)  │ (\u001b[38;5;45mNone\u001b[0m, \u001b[38;5;34m64\u001b[0m)         │          \u001b[38;5;34m0\u001b[0m │\n",
       "├──────────────────────────┼────────────────────┼────────────┤\n",
       "│ perceptron_layer_1       │ (\u001b[38;5;45mNone\u001b[0m, \u001b[38;5;34m32\u001b[0m)         │      \u001b[38;5;34m2,080\u001b[0m │\n",
       "│ (\u001b[38;5;33mPerceptronLayer\u001b[0m)        │                    │            │\n",
       "├──────────────────────────┼────────────────────┼────────────┤\n",
       "│ activation_1             │ (\u001b[38;5;45mNone\u001b[0m, \u001b[38;5;34m32\u001b[0m)         │          \u001b[38;5;34m0\u001b[0m │\n",
       "│ (\u001b[38;5;33mActivation\u001b[0m)             │                    │            │\n",
       "├──────────────────────────┼────────────────────┼────────────┤\n",
       "│ perceptron_layer_2       │ (\u001b[38;5;45mNone\u001b[0m, \u001b[38;5;34m1\u001b[0m)          │         \u001b[38;5;34m33\u001b[0m │\n",
       "│ (\u001b[38;5;33mPerceptronLayer\u001b[0m)        │                    │            │\n",
       "├──────────────────────────┼────────────────────┼────────────┤\n",
       "│ activation_2             │ (\u001b[38;5;45mNone\u001b[0m, \u001b[38;5;34m1\u001b[0m)          │          \u001b[38;5;34m0\u001b[0m │\n",
       "│ (\u001b[38;5;33mActivation\u001b[0m)             │                    │            │\n",
       "└──────────────────────────┴────────────────────┴────────────┘\n"
      ]
     },
     "metadata": {},
     "output_type": "display_data"
    },
    {
     "data": {
      "text/html": [
       "<pre style=\"white-space:pre;overflow-x:auto;line-height:normal;font-family:Menlo,'DejaVu Sans Mono',consolas,'Courier New',monospace\"><span style=\"font-weight: bold\"> Total params: </span><span style=\"color: #00af00; text-decoration-color: #00af00\">788,609</span> (3.01 MB)\n",
       "</pre>\n"
      ],
      "text/plain": [
       "\u001b[1m Total params: \u001b[0m\u001b[38;5;34m788,609\u001b[0m (3.01 MB)\n"
      ]
     },
     "metadata": {},
     "output_type": "display_data"
    },
    {
     "data": {
      "text/html": [
       "<pre style=\"white-space:pre;overflow-x:auto;line-height:normal;font-family:Menlo,'DejaVu Sans Mono',consolas,'Courier New',monospace\"><span style=\"font-weight: bold\"> Trainable params: </span><span style=\"color: #00af00; text-decoration-color: #00af00\">788,609</span> (3.01 MB)\n",
       "</pre>\n"
      ],
      "text/plain": [
       "\u001b[1m Trainable params: \u001b[0m\u001b[38;5;34m788,609\u001b[0m (3.01 MB)\n"
      ]
     },
     "metadata": {},
     "output_type": "display_data"
    },
    {
     "data": {
      "text/html": [
       "<pre style=\"white-space:pre;overflow-x:auto;line-height:normal;font-family:Menlo,'DejaVu Sans Mono',consolas,'Courier New',monospace\"><span style=\"font-weight: bold\"> Non-trainable params: </span><span style=\"color: #00af00; text-decoration-color: #00af00\">0</span> (0.00 B)\n",
       "</pre>\n"
      ],
      "text/plain": [
       "\u001b[1m Non-trainable params: \u001b[0m\u001b[38;5;34m0\u001b[0m (0.00 B)\n"
      ]
     },
     "metadata": {},
     "output_type": "display_data"
    }
   ],
   "source": [
    "# Instanciamos el modelo\n",
    "input_size = X_trainTF.shape[1]\n",
    "# Cantidad de neuronas\n",
    "layer_sizes = [64, 32]\n",
    "\n",
    "model = MLP_TF(input_size, layer_sizes)\n",
    "\n",
    "# Compilar\n",
    "model.compile(optimizer=SGD(learning_rate=0.01),\n",
    "              loss=\"binary_crossentropy\",\n",
    "              metrics=[\"accuracy\"]\n",
    "              )\n",
    "\n",
    "model.summary()"
   ]
  },
  {
   "cell_type": "code",
   "execution_count": 45,
   "metadata": {},
   "outputs": [
    {
     "name": "stdout",
     "output_type": "stream",
     "text": [
      "Epoch 1/100\n",
      "\u001b[1m50/50\u001b[0m \u001b[32m━━━━━━━━━━━━━━━━━━━━\u001b[0m\u001b[37m\u001b[0m \u001b[1m1s\u001b[0m 8ms/step - accuracy: 0.5066 - loss: 0.6988 - val_accuracy: 0.4667 - val_loss: 0.6980\n",
      "Epoch 2/100\n",
      "\u001b[1m50/50\u001b[0m \u001b[32m━━━━━━━━━━━━━━━━━━━━\u001b[0m\u001b[37m\u001b[0m \u001b[1m0s\u001b[0m 3ms/step - accuracy: 0.5409 - loss: 0.6860 - val_accuracy: 0.4667 - val_loss: 0.6953\n",
      "Epoch 3/100\n",
      "\u001b[1m50/50\u001b[0m \u001b[32m━━━━━━━━━━━━━━━━━━━━\u001b[0m\u001b[37m\u001b[0m \u001b[1m0s\u001b[0m 4ms/step - accuracy: 0.5550 - loss: 0.6798 - val_accuracy: 0.6000 - val_loss: 0.6835\n",
      "Epoch 4/100\n",
      "\u001b[1m50/50\u001b[0m \u001b[32m━━━━━━━━━━━━━━━━━━━━\u001b[0m\u001b[37m\u001b[0m \u001b[1m0s\u001b[0m 4ms/step - accuracy: 0.6296 - loss: 0.6715 - val_accuracy: 0.6000 - val_loss: 0.6757\n",
      "Epoch 5/100\n",
      "\u001b[1m50/50\u001b[0m \u001b[32m━━━━━━━━━━━━━━━━━━━━\u001b[0m\u001b[37m\u001b[0m \u001b[1m0s\u001b[0m 3ms/step - accuracy: 0.6221 - loss: 0.6628 - val_accuracy: 0.7333 - val_loss: 0.6468\n",
      "Epoch 6/100\n",
      "\u001b[1m50/50\u001b[0m \u001b[32m━━━━━━━━━━━━━━━━━━━━\u001b[0m\u001b[37m\u001b[0m \u001b[1m0s\u001b[0m 3ms/step - accuracy: 0.6520 - loss: 0.6515 - val_accuracy: 0.7333 - val_loss: 0.6347\n",
      "Epoch 7/100\n",
      "\u001b[1m50/50\u001b[0m \u001b[32m━━━━━━━━━━━━━━━━━━━━\u001b[0m\u001b[37m\u001b[0m \u001b[1m0s\u001b[0m 3ms/step - accuracy: 0.6587 - loss: 0.6361 - val_accuracy: 0.6667 - val_loss: 0.6197\n",
      "Epoch 8/100\n",
      "\u001b[1m50/50\u001b[0m \u001b[32m━━━━━━━━━━━━━━━━━━━━\u001b[0m\u001b[37m\u001b[0m \u001b[1m0s\u001b[0m 3ms/step - accuracy: 0.6529 - loss: 0.6235 - val_accuracy: 0.6667 - val_loss: 0.6152\n",
      "Epoch 9/100\n",
      "\u001b[1m50/50\u001b[0m \u001b[32m━━━━━━━━━━━━━━━━━━━━\u001b[0m\u001b[37m\u001b[0m \u001b[1m0s\u001b[0m 3ms/step - accuracy: 0.6832 - loss: 0.5958 - val_accuracy: 0.8000 - val_loss: 0.5683\n",
      "Epoch 10/100\n",
      "\u001b[1m50/50\u001b[0m \u001b[32m━━━━━━━━━━━━━━━━━━━━\u001b[0m\u001b[37m\u001b[0m \u001b[1m0s\u001b[0m 3ms/step - accuracy: 0.6994 - loss: 0.5898 - val_accuracy: 0.7333 - val_loss: 0.5411\n",
      "Epoch 11/100\n",
      "\u001b[1m50/50\u001b[0m \u001b[32m━━━━━━━━━━━━━━━━━━━━\u001b[0m\u001b[37m\u001b[0m \u001b[1m0s\u001b[0m 3ms/step - accuracy: 0.7006 - loss: 0.5647 - val_accuracy: 0.7333 - val_loss: 0.5155\n",
      "Epoch 12/100\n",
      "\u001b[1m50/50\u001b[0m \u001b[32m━━━━━━━━━━━━━━━━━━━━\u001b[0m\u001b[37m\u001b[0m \u001b[1m0s\u001b[0m 3ms/step - accuracy: 0.7299 - loss: 0.5452 - val_accuracy: 0.7333 - val_loss: 0.5380\n",
      "Epoch 13/100\n",
      "\u001b[1m50/50\u001b[0m \u001b[32m━━━━━━━━━━━━━━━━━━━━\u001b[0m\u001b[37m\u001b[0m \u001b[1m0s\u001b[0m 3ms/step - accuracy: 0.7377 - loss: 0.5283 - val_accuracy: 0.8667 - val_loss: 0.4799\n",
      "Epoch 14/100\n",
      "\u001b[1m50/50\u001b[0m \u001b[32m━━━━━━━━━━━━━━━━━━━━\u001b[0m\u001b[37m\u001b[0m \u001b[1m0s\u001b[0m 3ms/step - accuracy: 0.7550 - loss: 0.5033 - val_accuracy: 0.8667 - val_loss: 0.4587\n",
      "Epoch 15/100\n",
      "\u001b[1m50/50\u001b[0m \u001b[32m━━━━━━━━━━━━━━━━━━━━\u001b[0m\u001b[37m\u001b[0m \u001b[1m0s\u001b[0m 4ms/step - accuracy: 0.7447 - loss: 0.5031 - val_accuracy: 0.4667 - val_loss: 0.6507\n",
      "Epoch 16/100\n",
      "\u001b[1m50/50\u001b[0m \u001b[32m━━━━━━━━━━━━━━━━━━━━\u001b[0m\u001b[37m\u001b[0m \u001b[1m0s\u001b[0m 3ms/step - accuracy: 0.7134 - loss: 0.5414 - val_accuracy: 0.8667 - val_loss: 0.4151\n",
      "Epoch 17/100\n",
      "\u001b[1m50/50\u001b[0m \u001b[32m━━━━━━━━━━━━━━━━━━━━\u001b[0m\u001b[37m\u001b[0m \u001b[1m0s\u001b[0m 3ms/step - accuracy: 0.7674 - loss: 0.4762 - val_accuracy: 0.8667 - val_loss: 0.4204\n",
      "Epoch 18/100\n",
      "\u001b[1m50/50\u001b[0m \u001b[32m━━━━━━━━━━━━━━━━━━━━\u001b[0m\u001b[37m\u001b[0m \u001b[1m0s\u001b[0m 3ms/step - accuracy: 0.7685 - loss: 0.4887 - val_accuracy: 0.9333 - val_loss: 0.3701\n",
      "Epoch 19/100\n",
      "\u001b[1m50/50\u001b[0m \u001b[32m━━━━━━━━━━━━━━━━━━━━\u001b[0m\u001b[37m\u001b[0m \u001b[1m0s\u001b[0m 3ms/step - accuracy: 0.7723 - loss: 0.4649 - val_accuracy: 0.9333 - val_loss: 0.3929\n",
      "Epoch 20/100\n",
      "\u001b[1m50/50\u001b[0m \u001b[32m━━━━━━━━━━━━━━━━━━━━\u001b[0m\u001b[37m\u001b[0m \u001b[1m0s\u001b[0m 4ms/step - accuracy: 0.7898 - loss: 0.4447 - val_accuracy: 0.8667 - val_loss: 0.3919\n",
      "Epoch 21/100\n",
      "\u001b[1m50/50\u001b[0m \u001b[32m━━━━━━━━━━━━━━━━━━━━\u001b[0m\u001b[37m\u001b[0m \u001b[1m0s\u001b[0m 4ms/step - accuracy: 0.7671 - loss: 0.4480 - val_accuracy: 0.9333 - val_loss: 0.3307\n",
      "Epoch 22/100\n",
      "\u001b[1m50/50\u001b[0m \u001b[32m━━━━━━━━━━━━━━━━━━━━\u001b[0m\u001b[37m\u001b[0m \u001b[1m0s\u001b[0m 3ms/step - accuracy: 0.8114 - loss: 0.4201 - val_accuracy: 0.8000 - val_loss: 0.3763\n",
      "Epoch 23/100\n",
      "\u001b[1m50/50\u001b[0m \u001b[32m━━━━━━━━━━━━━━━━━━━━\u001b[0m\u001b[37m\u001b[0m \u001b[1m0s\u001b[0m 4ms/step - accuracy: 0.8042 - loss: 0.4358 - val_accuracy: 0.8000 - val_loss: 0.4629\n",
      "Epoch 24/100\n",
      "\u001b[1m50/50\u001b[0m \u001b[32m━━━━━━━━━━━━━━━━━━━━\u001b[0m\u001b[37m\u001b[0m \u001b[1m0s\u001b[0m 4ms/step - accuracy: 0.7980 - loss: 0.4224 - val_accuracy: 0.9333 - val_loss: 0.3195\n",
      "Epoch 25/100\n",
      "\u001b[1m50/50\u001b[0m \u001b[32m━━━━━━━━━━━━━━━━━━━━\u001b[0m\u001b[37m\u001b[0m \u001b[1m0s\u001b[0m 3ms/step - accuracy: 0.8126 - loss: 0.3894 - val_accuracy: 0.9333 - val_loss: 0.3773\n",
      "Epoch 26/100\n",
      "\u001b[1m50/50\u001b[0m \u001b[32m━━━━━━━━━━━━━━━━━━━━\u001b[0m\u001b[37m\u001b[0m \u001b[1m0s\u001b[0m 4ms/step - accuracy: 0.8094 - loss: 0.4037 - val_accuracy: 0.9333 - val_loss: 0.3341\n",
      "Epoch 27/100\n",
      "\u001b[1m50/50\u001b[0m \u001b[32m━━━━━━━━━━━━━━━━━━━━\u001b[0m\u001b[37m\u001b[0m \u001b[1m0s\u001b[0m 3ms/step - accuracy: 0.8094 - loss: 0.3947 - val_accuracy: 0.9333 - val_loss: 0.3058\n",
      "Epoch 28/100\n",
      "\u001b[1m50/50\u001b[0m \u001b[32m━━━━━━━━━━━━━━━━━━━━\u001b[0m\u001b[37m\u001b[0m \u001b[1m0s\u001b[0m 3ms/step - accuracy: 0.8319 - loss: 0.3699 - val_accuracy: 0.8000 - val_loss: 0.4061\n",
      "Epoch 29/100\n",
      "\u001b[1m50/50\u001b[0m \u001b[32m━━━━━━━━━━━━━━━━━━━━\u001b[0m\u001b[37m\u001b[0m \u001b[1m0s\u001b[0m 3ms/step - accuracy: 0.8320 - loss: 0.3669 - val_accuracy: 0.9333 - val_loss: 0.2714\n",
      "Epoch 30/100\n",
      "\u001b[1m50/50\u001b[0m \u001b[32m━━━━━━━━━━━━━━━━━━━━\u001b[0m\u001b[37m\u001b[0m \u001b[1m0s\u001b[0m 3ms/step - accuracy: 0.8291 - loss: 0.3768 - val_accuracy: 0.9333 - val_loss: 0.2926\n",
      "Epoch 31/100\n",
      "\u001b[1m50/50\u001b[0m \u001b[32m━━━━━━━━━━━━━━━━━━━━\u001b[0m\u001b[37m\u001b[0m \u001b[1m0s\u001b[0m 4ms/step - accuracy: 0.8515 - loss: 0.3457 - val_accuracy: 0.9333 - val_loss: 0.3238\n",
      "Epoch 32/100\n",
      "\u001b[1m50/50\u001b[0m \u001b[32m━━━━━━━━━━━━━━━━━━━━\u001b[0m\u001b[37m\u001b[0m \u001b[1m0s\u001b[0m 3ms/step - accuracy: 0.8608 - loss: 0.3182 - val_accuracy: 0.8667 - val_loss: 0.3096\n",
      "Epoch 33/100\n",
      "\u001b[1m50/50\u001b[0m \u001b[32m━━━━━━━━━━━━━━━━━━━━\u001b[0m\u001b[37m\u001b[0m \u001b[1m0s\u001b[0m 3ms/step - accuracy: 0.8507 - loss: 0.3541 - val_accuracy: 0.8667 - val_loss: 0.2886\n",
      "Epoch 34/100\n",
      "\u001b[1m50/50\u001b[0m \u001b[32m━━━━━━━━━━━━━━━━━━━━\u001b[0m\u001b[37m\u001b[0m \u001b[1m0s\u001b[0m 3ms/step - accuracy: 0.8746 - loss: 0.2896 - val_accuracy: 0.9333 - val_loss: 0.2634\n",
      "Epoch 35/100\n",
      "\u001b[1m50/50\u001b[0m \u001b[32m━━━━━━━━━━━━━━━━━━━━\u001b[0m\u001b[37m\u001b[0m \u001b[1m0s\u001b[0m 3ms/step - accuracy: 0.8506 - loss: 0.3227 - val_accuracy: 0.8667 - val_loss: 0.2781\n",
      "Epoch 36/100\n",
      "\u001b[1m50/50\u001b[0m \u001b[32m━━━━━━━━━━━━━━━━━━━━\u001b[0m\u001b[37m\u001b[0m \u001b[1m0s\u001b[0m 3ms/step - accuracy: 0.9006 - loss: 0.2629 - val_accuracy: 0.9333 - val_loss: 0.2372\n",
      "Epoch 37/100\n",
      "\u001b[1m50/50\u001b[0m \u001b[32m━━━━━━━━━━━━━━━━━━━━\u001b[0m\u001b[37m\u001b[0m \u001b[1m0s\u001b[0m 3ms/step - accuracy: 0.8890 - loss: 0.2709 - val_accuracy: 0.8000 - val_loss: 0.3317\n",
      "Epoch 38/100\n",
      "\u001b[1m50/50\u001b[0m \u001b[32m━━━━━━━━━━━━━━━━━━━━\u001b[0m\u001b[37m\u001b[0m \u001b[1m0s\u001b[0m 3ms/step - accuracy: 0.8738 - loss: 0.2953 - val_accuracy: 0.8667 - val_loss: 0.2292\n",
      "Epoch 39/100\n",
      "\u001b[1m50/50\u001b[0m \u001b[32m━━━━━━━━━━━━━━━━━━━━\u001b[0m\u001b[37m\u001b[0m \u001b[1m0s\u001b[0m 3ms/step - accuracy: 0.8963 - loss: 0.2613 - val_accuracy: 0.8000 - val_loss: 0.3952\n",
      "Epoch 40/100\n",
      "\u001b[1m50/50\u001b[0m \u001b[32m━━━━━━━━━━━━━━━━━━━━\u001b[0m\u001b[37m\u001b[0m \u001b[1m0s\u001b[0m 3ms/step - accuracy: 0.8542 - loss: 0.3141 - val_accuracy: 0.8667 - val_loss: 0.2781\n",
      "Epoch 41/100\n",
      "\u001b[1m50/50\u001b[0m \u001b[32m━━━━━━━━━━━━━━━━━━━━\u001b[0m\u001b[37m\u001b[0m \u001b[1m0s\u001b[0m 3ms/step - accuracy: 0.8989 - loss: 0.2444 - val_accuracy: 0.9333 - val_loss: 0.2393\n",
      "Epoch 42/100\n",
      "\u001b[1m50/50\u001b[0m \u001b[32m━━━━━━━━━━━━━━━━━━━━\u001b[0m\u001b[37m\u001b[0m \u001b[1m0s\u001b[0m 3ms/step - accuracy: 0.8873 - loss: 0.2400 - val_accuracy: 0.9333 - val_loss: 0.2149\n",
      "Epoch 43/100\n",
      "\u001b[1m50/50\u001b[0m \u001b[32m━━━━━━━━━━━━━━━━━━━━\u001b[0m\u001b[37m\u001b[0m \u001b[1m0s\u001b[0m 4ms/step - accuracy: 0.9163 - loss: 0.2245 - val_accuracy: 0.8667 - val_loss: 0.3045\n",
      "Epoch 44/100\n",
      "\u001b[1m50/50\u001b[0m \u001b[32m━━━━━━━━━━━━━━━━━━━━\u001b[0m\u001b[37m\u001b[0m \u001b[1m0s\u001b[0m 4ms/step - accuracy: 0.9180 - loss: 0.2193 - val_accuracy: 0.9333 - val_loss: 0.2253\n",
      "Epoch 45/100\n",
      "\u001b[1m50/50\u001b[0m \u001b[32m━━━━━━━━━━━━━━━━━━━━\u001b[0m\u001b[37m\u001b[0m \u001b[1m0s\u001b[0m 3ms/step - accuracy: 0.9105 - loss: 0.2307 - val_accuracy: 0.8667 - val_loss: 0.3431\n",
      "Epoch 46/100\n",
      "\u001b[1m50/50\u001b[0m \u001b[32m━━━━━━━━━━━━━━━━━━━━\u001b[0m\u001b[37m\u001b[0m \u001b[1m0s\u001b[0m 3ms/step - accuracy: 0.8851 - loss: 0.2591 - val_accuracy: 0.8667 - val_loss: 0.2273\n",
      "Epoch 47/100\n",
      "\u001b[1m50/50\u001b[0m \u001b[32m━━━━━━━━━━━━━━━━━━━━\u001b[0m\u001b[37m\u001b[0m \u001b[1m0s\u001b[0m 3ms/step - accuracy: 0.9145 - loss: 0.2201 - val_accuracy: 0.9333 - val_loss: 0.2552\n",
      "Epoch 48/100\n",
      "\u001b[1m50/50\u001b[0m \u001b[32m━━━━━━━━━━━━━━━━━━━━\u001b[0m\u001b[37m\u001b[0m \u001b[1m0s\u001b[0m 5ms/step - accuracy: 0.9258 - loss: 0.2143 - val_accuracy: 0.9333 - val_loss: 0.3114\n",
      "Epoch 49/100\n",
      "\u001b[1m50/50\u001b[0m \u001b[32m━━━━━━━━━━━━━━━━━━━━\u001b[0m\u001b[37m\u001b[0m \u001b[1m0s\u001b[0m 3ms/step - accuracy: 0.9146 - loss: 0.2148 - val_accuracy: 0.8667 - val_loss: 0.2250\n",
      "Epoch 50/100\n",
      "\u001b[1m50/50\u001b[0m \u001b[32m━━━━━━━━━━━━━━━━━━━━\u001b[0m\u001b[37m\u001b[0m \u001b[1m0s\u001b[0m 3ms/step - accuracy: 0.9021 - loss: 0.2677 - val_accuracy: 0.9333 - val_loss: 0.2794\n",
      "Epoch 51/100\n",
      "\u001b[1m50/50\u001b[0m \u001b[32m━━━━━━━━━━━━━━━━━━━━\u001b[0m\u001b[37m\u001b[0m \u001b[1m0s\u001b[0m 3ms/step - accuracy: 0.8984 - loss: 0.2411 - val_accuracy: 0.8667 - val_loss: 0.2514\n",
      "Epoch 52/100\n",
      "\u001b[1m50/50\u001b[0m \u001b[32m━━━━━━━━━━━━━━━━━━━━\u001b[0m\u001b[37m\u001b[0m \u001b[1m0s\u001b[0m 3ms/step - accuracy: 0.9273 - loss: 0.2024 - val_accuracy: 0.9333 - val_loss: 0.2468\n",
      "Epoch 53/100\n",
      "\u001b[1m50/50\u001b[0m \u001b[32m━━━━━━━━━━━━━━━━━━━━\u001b[0m\u001b[37m\u001b[0m \u001b[1m0s\u001b[0m 3ms/step - accuracy: 0.9067 - loss: 0.2215 - val_accuracy: 0.8667 - val_loss: 0.2372\n",
      "Epoch 54/100\n",
      "\u001b[1m50/50\u001b[0m \u001b[32m━━━━━━━━━━━━━━━━━━━━\u001b[0m\u001b[37m\u001b[0m \u001b[1m0s\u001b[0m 3ms/step - accuracy: 0.9157 - loss: 0.1997 - val_accuracy: 0.8667 - val_loss: 0.2521\n",
      "Epoch 55/100\n",
      "\u001b[1m50/50\u001b[0m \u001b[32m━━━━━━━━━━━━━━━━━━━━\u001b[0m\u001b[37m\u001b[0m \u001b[1m0s\u001b[0m 3ms/step - accuracy: 0.9439 - loss: 0.1803 - val_accuracy: 0.9333 - val_loss: 0.1999\n",
      "Epoch 56/100\n",
      "\u001b[1m50/50\u001b[0m \u001b[32m━━━━━━━━━━━━━━━━━━━━\u001b[0m\u001b[37m\u001b[0m \u001b[1m0s\u001b[0m 3ms/step - accuracy: 0.9262 - loss: 0.2017 - val_accuracy: 0.8000 - val_loss: 0.3280\n",
      "Epoch 57/100\n",
      "\u001b[1m50/50\u001b[0m \u001b[32m━━━━━━━━━━━━━━━━━━━━\u001b[0m\u001b[37m\u001b[0m \u001b[1m0s\u001b[0m 3ms/step - accuracy: 0.9150 - loss: 0.1860 - val_accuracy: 0.8667 - val_loss: 0.3407\n",
      "Epoch 58/100\n",
      "\u001b[1m50/50\u001b[0m \u001b[32m━━━━━━━━━━━━━━━━━━━━\u001b[0m\u001b[37m\u001b[0m \u001b[1m0s\u001b[0m 3ms/step - accuracy: 0.9540 - loss: 0.1467 - val_accuracy: 0.9333 - val_loss: 0.1759\n",
      "Epoch 59/100\n",
      "\u001b[1m50/50\u001b[0m \u001b[32m━━━━━━━━━━━━━━━━━━━━\u001b[0m\u001b[37m\u001b[0m \u001b[1m0s\u001b[0m 3ms/step - accuracy: 0.9279 - loss: 0.2024 - val_accuracy: 0.8667 - val_loss: 0.3130\n",
      "Epoch 60/100\n",
      "\u001b[1m50/50\u001b[0m \u001b[32m━━━━━━━━━━━━━━━━━━━━\u001b[0m\u001b[37m\u001b[0m \u001b[1m0s\u001b[0m 3ms/step - accuracy: 0.9592 - loss: 0.1291 - val_accuracy: 0.9333 - val_loss: 0.2157\n",
      "Epoch 61/100\n",
      "\u001b[1m50/50\u001b[0m \u001b[32m━━━━━━━━━━━━━━━━━━━━\u001b[0m\u001b[37m\u001b[0m \u001b[1m0s\u001b[0m 3ms/step - accuracy: 0.9382 - loss: 0.1567 - val_accuracy: 0.9333 - val_loss: 0.2078\n",
      "Epoch 62/100\n",
      "\u001b[1m50/50\u001b[0m \u001b[32m━━━━━━━━━━━━━━━━━━━━\u001b[0m\u001b[37m\u001b[0m \u001b[1m0s\u001b[0m 3ms/step - accuracy: 0.9375 - loss: 0.1689 - val_accuracy: 0.9333 - val_loss: 0.2926\n",
      "Epoch 63/100\n",
      "\u001b[1m50/50\u001b[0m \u001b[32m━━━━━━━━━━━━━━━━━━━━\u001b[0m\u001b[37m\u001b[0m \u001b[1m0s\u001b[0m 3ms/step - accuracy: 0.9289 - loss: 0.1690 - val_accuracy: 0.8667 - val_loss: 0.2258\n",
      "Epoch 64/100\n",
      "\u001b[1m50/50\u001b[0m \u001b[32m━━━━━━━━━━━━━━━━━━━━\u001b[0m\u001b[37m\u001b[0m \u001b[1m0s\u001b[0m 3ms/step - accuracy: 0.9547 - loss: 0.1148 - val_accuracy: 0.8667 - val_loss: 0.3871\n",
      "Epoch 65/100\n",
      "\u001b[1m50/50\u001b[0m \u001b[32m━━━━━━━━━━━━━━━━━━━━\u001b[0m\u001b[37m\u001b[0m \u001b[1m0s\u001b[0m 3ms/step - accuracy: 0.9259 - loss: 0.1795 - val_accuracy: 0.8667 - val_loss: 0.5246\n",
      "Epoch 66/100\n",
      "\u001b[1m50/50\u001b[0m \u001b[32m━━━━━━━━━━━━━━━━━━━━\u001b[0m\u001b[37m\u001b[0m \u001b[1m0s\u001b[0m 4ms/step - accuracy: 0.9552 - loss: 0.1248 - val_accuracy: 0.8000 - val_loss: 0.8804\n",
      "Epoch 67/100\n",
      "\u001b[1m50/50\u001b[0m \u001b[32m━━━━━━━━━━━━━━━━━━━━\u001b[0m\u001b[37m\u001b[0m \u001b[1m0s\u001b[0m 3ms/step - accuracy: 0.8839 - loss: 0.2900 - val_accuracy: 0.8000 - val_loss: 0.2091\n",
      "Epoch 68/100\n",
      "\u001b[1m50/50\u001b[0m \u001b[32m━━━━━━━━━━━━━━━━━━━━\u001b[0m\u001b[37m\u001b[0m \u001b[1m0s\u001b[0m 3ms/step - accuracy: 0.9667 - loss: 0.1038 - val_accuracy: 0.8667 - val_loss: 0.3432\n",
      "Epoch 69/100\n",
      "\u001b[1m50/50\u001b[0m \u001b[32m━━━━━━━━━━━━━━━━━━━━\u001b[0m\u001b[37m\u001b[0m \u001b[1m0s\u001b[0m 3ms/step - accuracy: 0.9484 - loss: 0.1319 - val_accuracy: 0.8667 - val_loss: 0.3409\n",
      "Epoch 70/100\n",
      "\u001b[1m50/50\u001b[0m \u001b[32m━━━━━━━━━━━━━━━━━━━━\u001b[0m\u001b[37m\u001b[0m \u001b[1m0s\u001b[0m 3ms/step - accuracy: 0.9341 - loss: 0.1825 - val_accuracy: 0.8667 - val_loss: 0.2522\n",
      "Epoch 71/100\n",
      "\u001b[1m50/50\u001b[0m \u001b[32m━━━━━━━━━━━━━━━━━━━━\u001b[0m\u001b[37m\u001b[0m \u001b[1m0s\u001b[0m 3ms/step - accuracy: 0.9521 - loss: 0.1409 - val_accuracy: 0.8000 - val_loss: 0.1707\n",
      "Epoch 72/100\n",
      "\u001b[1m50/50\u001b[0m \u001b[32m━━━━━━━━━━━━━━━━━━━━\u001b[0m\u001b[37m\u001b[0m \u001b[1m0s\u001b[0m 3ms/step - accuracy: 0.9474 - loss: 0.1291 - val_accuracy: 0.8667 - val_loss: 0.2204\n",
      "Epoch 73/100\n",
      "\u001b[1m50/50\u001b[0m \u001b[32m━━━━━━━━━━━━━━━━━━━━\u001b[0m\u001b[37m\u001b[0m \u001b[1m0s\u001b[0m 3ms/step - accuracy: 0.9475 - loss: 0.1660 - val_accuracy: 0.9333 - val_loss: 0.2040\n",
      "Epoch 74/100\n",
      "\u001b[1m50/50\u001b[0m \u001b[32m━━━━━━━━━━━━━━━━━━━━\u001b[0m\u001b[37m\u001b[0m \u001b[1m0s\u001b[0m 4ms/step - accuracy: 0.9695 - loss: 0.1059 - val_accuracy: 0.8667 - val_loss: 0.3539\n",
      "Epoch 75/100\n",
      "\u001b[1m50/50\u001b[0m \u001b[32m━━━━━━━━━━━━━━━━━━━━\u001b[0m\u001b[37m\u001b[0m \u001b[1m0s\u001b[0m 3ms/step - accuracy: 0.9498 - loss: 0.1501 - val_accuracy: 0.8000 - val_loss: 0.6272\n",
      "Epoch 76/100\n",
      "\u001b[1m50/50\u001b[0m \u001b[32m━━━━━━━━━━━━━━━━━━━━\u001b[0m\u001b[37m\u001b[0m \u001b[1m0s\u001b[0m 3ms/step - accuracy: 0.9296 - loss: 0.1988 - val_accuracy: 0.8000 - val_loss: 0.7454\n",
      "Epoch 77/100\n",
      "\u001b[1m50/50\u001b[0m \u001b[32m━━━━━━━━━━━━━━━━━━━━\u001b[0m\u001b[37m\u001b[0m \u001b[1m0s\u001b[0m 3ms/step - accuracy: 0.9105 - loss: 0.2868 - val_accuracy: 0.8667 - val_loss: 0.2209\n",
      "Epoch 78/100\n",
      "\u001b[1m50/50\u001b[0m \u001b[32m━━━━━━━━━━━━━━━━━━━━\u001b[0m\u001b[37m\u001b[0m \u001b[1m0s\u001b[0m 3ms/step - accuracy: 0.9793 - loss: 0.0788 - val_accuracy: 0.8667 - val_loss: 0.2742\n",
      "Epoch 79/100\n",
      "\u001b[1m50/50\u001b[0m \u001b[32m━━━━━━━━━━━━━━━━━━━━\u001b[0m\u001b[37m\u001b[0m \u001b[1m0s\u001b[0m 3ms/step - accuracy: 0.9668 - loss: 0.1013 - val_accuracy: 0.8667 - val_loss: 0.2088\n",
      "Epoch 80/100\n",
      "\u001b[1m50/50\u001b[0m \u001b[32m━━━━━━━━━━━━━━━━━━━━\u001b[0m\u001b[37m\u001b[0m \u001b[1m0s\u001b[0m 3ms/step - accuracy: 0.9717 - loss: 0.0993 - val_accuracy: 0.9333 - val_loss: 0.1361\n",
      "Epoch 81/100\n",
      "\u001b[1m50/50\u001b[0m \u001b[32m━━━━━━━━━━━━━━━━━━━━\u001b[0m\u001b[37m\u001b[0m \u001b[1m0s\u001b[0m 3ms/step - accuracy: 0.9768 - loss: 0.0858 - val_accuracy: 0.8667 - val_loss: 0.3182\n",
      "Epoch 82/100\n",
      "\u001b[1m50/50\u001b[0m \u001b[32m━━━━━━━━━━━━━━━━━━━━\u001b[0m\u001b[37m\u001b[0m \u001b[1m0s\u001b[0m 4ms/step - accuracy: 0.9363 - loss: 0.1686 - val_accuracy: 0.8667 - val_loss: 0.2176\n",
      "Epoch 83/100\n",
      "\u001b[1m50/50\u001b[0m \u001b[32m━━━━━━━━━━━━━━━━━━━━\u001b[0m\u001b[37m\u001b[0m \u001b[1m0s\u001b[0m 3ms/step - accuracy: 0.9359 - loss: 0.1891 - val_accuracy: 0.8667 - val_loss: 0.2866\n",
      "Epoch 84/100\n",
      "\u001b[1m50/50\u001b[0m \u001b[32m━━━━━━━━━━━━━━━━━━━━\u001b[0m\u001b[37m\u001b[0m \u001b[1m0s\u001b[0m 3ms/step - accuracy: 0.9298 - loss: 0.1916 - val_accuracy: 0.8667 - val_loss: 0.1990\n",
      "Epoch 85/100\n",
      "\u001b[1m50/50\u001b[0m \u001b[32m━━━━━━━━━━━━━━━━━━━━\u001b[0m\u001b[37m\u001b[0m \u001b[1m0s\u001b[0m 3ms/step - accuracy: 0.9698 - loss: 0.0922 - val_accuracy: 0.8667 - val_loss: 0.2398\n",
      "Epoch 86/100\n",
      "\u001b[1m50/50\u001b[0m \u001b[32m━━━━━━━━━━━━━━━━━━━━\u001b[0m\u001b[37m\u001b[0m \u001b[1m0s\u001b[0m 3ms/step - accuracy: 0.9818 - loss: 0.0770 - val_accuracy: 0.8667 - val_loss: 0.1696\n",
      "Epoch 87/100\n",
      "\u001b[1m50/50\u001b[0m \u001b[32m━━━━━━━━━━━━━━━━━━━━\u001b[0m\u001b[37m\u001b[0m \u001b[1m0s\u001b[0m 3ms/step - accuracy: 0.9816 - loss: 0.0707 - val_accuracy: 0.9333 - val_loss: 0.1515\n",
      "Epoch 88/100\n",
      "\u001b[1m50/50\u001b[0m \u001b[32m━━━━━━━━━━━━━━━━━━━━\u001b[0m\u001b[37m\u001b[0m \u001b[1m0s\u001b[0m 3ms/step - accuracy: 0.9822 - loss: 0.0643 - val_accuracy: 0.8000 - val_loss: 0.3013\n",
      "Epoch 89/100\n",
      "\u001b[1m50/50\u001b[0m \u001b[32m━━━━━━━━━━━━━━━━━━━━\u001b[0m\u001b[37m\u001b[0m \u001b[1m0s\u001b[0m 3ms/step - accuracy: 0.9596 - loss: 0.1391 - val_accuracy: 0.9333 - val_loss: 0.1715\n",
      "Epoch 90/100\n",
      "\u001b[1m50/50\u001b[0m \u001b[32m━━━━━━━━━━━━━━━━━━━━\u001b[0m\u001b[37m\u001b[0m \u001b[1m0s\u001b[0m 3ms/step - accuracy: 0.9632 - loss: 0.0954 - val_accuracy: 0.8667 - val_loss: 0.4812\n",
      "Epoch 91/100\n",
      "\u001b[1m50/50\u001b[0m \u001b[32m━━━━━━━━━━━━━━━━━━━━\u001b[0m\u001b[37m\u001b[0m \u001b[1m0s\u001b[0m 3ms/step - accuracy: 0.9572 - loss: 0.1002 - val_accuracy: 0.8667 - val_loss: 0.2118\n",
      "Epoch 92/100\n",
      "\u001b[1m50/50\u001b[0m \u001b[32m━━━━━━━━━━━━━━━━━━━━\u001b[0m\u001b[37m\u001b[0m \u001b[1m0s\u001b[0m 3ms/step - accuracy: 0.9760 - loss: 0.0890 - val_accuracy: 0.8667 - val_loss: 0.1733\n",
      "Epoch 93/100\n",
      "\u001b[1m50/50\u001b[0m \u001b[32m━━━━━━━━━━━━━━━━━━━━\u001b[0m\u001b[37m\u001b[0m \u001b[1m0s\u001b[0m 3ms/step - accuracy: 0.9737 - loss: 0.0951 - val_accuracy: 0.8000 - val_loss: 0.2698\n",
      "Epoch 94/100\n",
      "\u001b[1m50/50\u001b[0m \u001b[32m━━━━━━━━━━━━━━━━━━━━\u001b[0m\u001b[37m\u001b[0m \u001b[1m0s\u001b[0m 3ms/step - accuracy: 0.9602 - loss: 0.1739 - val_accuracy: 0.8667 - val_loss: 0.2930\n",
      "Epoch 95/100\n",
      "\u001b[1m50/50\u001b[0m \u001b[32m━━━━━━━━━━━━━━━━━━━━\u001b[0m\u001b[37m\u001b[0m \u001b[1m0s\u001b[0m 3ms/step - accuracy: 0.9851 - loss: 0.0642 - val_accuracy: 0.9333 - val_loss: 0.3591\n",
      "Epoch 96/100\n",
      "\u001b[1m50/50\u001b[0m \u001b[32m━━━━━━━━━━━━━━━━━━━━\u001b[0m\u001b[37m\u001b[0m \u001b[1m0s\u001b[0m 3ms/step - accuracy: 0.9861 - loss: 0.0561 - val_accuracy: 0.9333 - val_loss: 0.3261\n",
      "Epoch 97/100\n",
      "\u001b[1m50/50\u001b[0m \u001b[32m━━━━━━━━━━━━━━━━━━━━\u001b[0m\u001b[37m\u001b[0m \u001b[1m0s\u001b[0m 3ms/step - accuracy: 0.9906 - loss: 0.0505 - val_accuracy: 0.8667 - val_loss: 0.1838\n",
      "Epoch 98/100\n",
      "\u001b[1m50/50\u001b[0m \u001b[32m━━━━━━━━━━━━━━━━━━━━\u001b[0m\u001b[37m\u001b[0m \u001b[1m0s\u001b[0m 3ms/step - accuracy: 0.9815 - loss: 0.0765 - val_accuracy: 0.8000 - val_loss: 0.2874\n",
      "Epoch 99/100\n",
      "\u001b[1m50/50\u001b[0m \u001b[32m━━━━━━━━━━━━━━━━━━━━\u001b[0m\u001b[37m\u001b[0m \u001b[1m0s\u001b[0m 3ms/step - accuracy: 0.9374 - loss: 0.1444 - val_accuracy: 0.8667 - val_loss: 0.1988\n",
      "Epoch 100/100\n",
      "\u001b[1m50/50\u001b[0m \u001b[32m━━━━━━━━━━━━━━━━━━━━\u001b[0m\u001b[37m\u001b[0m \u001b[1m0s\u001b[0m 3ms/step - accuracy: 0.9670 - loss: 0.0927 - val_accuracy: 0.8667 - val_loss: 0.2195\n"
     ]
    }
   ],
   "source": [
    "hist = model.fit(X_trainTF,\n",
    "                 y_trainTF,\n",
    "                 epochs=100,\n",
    "                 batch_size=32,\n",
    "                 validation_data=(X_testTF, y_testTF)\n",
    "                 )"
   ]
  },
  {
   "cell_type": "code",
   "execution_count": 47,
   "metadata": {},
   "outputs": [
    {
     "data": {
      "image/png": "[encoded data removed]",
      "text/plain": [
       "<Figure size 1000x500 with 1 Axes>"
      ]
     },
     "metadata": {},
     "output_type": "display_data"
    }
   ],
   "source": [
    "# Graficamos\n",
    "plt.figure(figsize=(10, 5))\n",
    "plt.plot(hist.history[\"accuracy\"], label=\"Training\")\n",
    "plt.plot(hist.history[\"val_accuracy\"], label=\"Validation\")\n",
    "plt.title(\"Evolución de Accuracy \")\n",
    "plt.xlabel(\"Epoca\")\n",
    "plt.ylabel(\"Valor\")\n",
    "plt.legend()\n",
    "plt.show()"
   ]
  },
  {
   "cell_type": "code",
   "execution_count": 48,
   "metadata": {},
   "outputs": [
    {
     "data": {
      "image/png": "[encoded data removed]",
      "text/plain": [
       "<Figure size 1000x500 with 1 Axes>"
      ]
     },
     "metadata": {},
     "output_type": "display_data"
    }
   ],
   "source": [
    "# Graficamos\n",
    "plt.figure(figsize=(10, 5))\n",
    "plt.plot(hist.history[\"loss\"], label=\"Training\")\n",
    "plt.plot(hist.history[\"val_loss\"], label=\"Validation\")\n",
    "plt.title(\"Evolución de la pérdida \")\n",
    "plt.xlabel(\"Epoca\")\n",
    "plt.ylabel(\"Valor\")\n",
    "plt.legend()\n",
    "plt.show()"
   ]
  },
  {
   "cell_type": "code",
   "execution_count": 49,
   "metadata": {},
   "outputs": [],
   "source": [
    "cat_img = load_image(\"./cat.jpg\")\n",
    "bun_img = load_image(\"./conejo.jpg\")\n",
    "\n",
    "cat_img = cat_img.reshape((1, -1))\n",
    "bun_img = bun_img.reshape((1, -1))"
   ]
  },
  {
   "cell_type": "code",
   "execution_count": 50,
   "metadata": {},
   "outputs": [
    {
     "name": "stdout",
     "output_type": "stream",
     "text": [
      "\u001b[1m1/1\u001b[0m \u001b[32m━━━━━━━━━━━━━━━━━━━━\u001b[0m\u001b[37m\u001b[0m \u001b[1m0s\u001b[0m 41ms/step\n",
      "\u001b[1m1/1\u001b[0m \u001b[32m━━━━━━━━━━━━━━━━━━━━\u001b[0m\u001b[37m\u001b[0m \u001b[1m0s\u001b[0m 50ms/step\n",
      "Predicción para el gato: [[0.]], Certeza: [[0.33161184]]\n",
      "Predicción para el conejo: [[0.]], Certeza: [[0.9618398]]\n"
     ]
    }
   ],
   "source": [
    "# Predecimos\n",
    "cat_pred = model.predict(cat_img)\n",
    "bun_pred = model.predict(bun_img)\n",
    "\n",
    "print(f\"Predicción para el gato: {np.round(cat_pred)}, Certeza: {cat_pred}\")\n",
    "print(f\"Predicción para el conejo: {np.round(bun_pred)}, Certeza: {1-bun_pred}\")"
   ]
  },
  {
   "cell_type": "markdown",
   "metadata": {},
   "source": [
    "--------------\n",
    "## Implementacion con modulos"
   ]
  },
  {
   "cell_type": "code",
   "execution_count": 54,
   "metadata": {},
   "outputs": [
    {
     "data": {
      "text/plain": [
       "Sequential(\n",
       "  (0): Linear(in_features=12288, out_features=64, bias=True)\n",
       "  (1): ReLU()\n",
       "  (2): Dropout(p=0.5, inplace=False)\n",
       "  (3): Linear(in_features=64, out_features=32, bias=True)\n",
       "  (4): ReLU()\n",
       "  (5): Dropout(p=0.5, inplace=False)\n",
       "  (6): Linear(in_features=32, out_features=1, bias=True)\n",
       "  (7): Sigmoid()\n",
       ")"
      ]
     },
     "execution_count": 54,
     "metadata": {},
     "output_type": "execute_result"
    }
   ],
   "source": [
    "import torch.nn as nn\n",
    "\n",
    "\n",
    "# Programación explicita.\n",
    "layers = []\n",
    "\n",
    "# Configurar las capas intermedias\n",
    "sizes = [64, 32]\n",
    "\n",
    "# Primer capa\n",
    "for output in sizes:\n",
    "    layers.append(nn.LazyLinear(output))\n",
    "    layers.append(nn.ReLU())\n",
    "    layers.append(nn.Dropout(0.5))\n",
    "    \n",
    "# Output layer\n",
    "layers.append(nn.LazyLinear(1))\n",
    "layers.append(nn.Sigmoid())\n",
    "\n",
    "# Creamos el modelo\n",
    "model = nn.Sequential(*layers)\n",
    "\n",
    "# inicialización --- warmup\n",
    "_ = model(X_testPT)\n",
    "\n",
    "# \n",
    "model"
   ]
  },
  {
   "cell_type": "code",
   "execution_count": 55,
   "metadata": {},
   "outputs": [],
   "source": [
    "def train_torch(model, train_loader, test_loader, criterion, optimizer, epochs, device=None, verbose=True):\n",
    "    if not device:\n",
    "        device = torch.device(\"cpu\")\n",
    "        model = model.to(device)\n",
    "        # train_loader = train_loader.to(device)\n",
    "        test_loader = test_loader.to(device)\n",
    "        \n",
    "    all_losses = []\n",
    "    test_acc_values = []\n",
    "    model.train()\n",
    "    \n",
    "    for epoch in range(epochs):\n",
    "        total_loss = 0\n",
    "        \n",
    "        for data, target, in train_loader:\n",
    "            data, target = data.to(device), target.to(device).float()\n",
    "            \n",
    "            optimizer.zero_grad()\n",
    "            y_pred = model(data)\n",
    "            \n",
    "            loss = criterion(y_pred, target)\n",
    "            loss.backward()\n",
    "            optimizer.step()\n",
    "            \n",
    "            total_loss += loss.item()\n",
    "            all_losses.append(total_loss)  \n",
    "        # inner for\n",
    "        \n",
    "        avg_loss = total_loss / len(train_loader)\n",
    "        \n",
    "        with torch.no_grad():\n",
    "            total = 0\n",
    "            correct = 0\n",
    "            for data, target in test_loader:\n",
    "                data, target = data.to(device), target.to(device).float()\n",
    "                y_pred = model(data)\n",
    "                \n",
    "                predictions = (y_pred >= 0.5).float()\n",
    "                total += target.size(0)\n",
    "                correct += (predictions == target).sum().item()\n",
    "                \n",
    "        test_acc = correct / total\n",
    "        test_acc_values.append(test_acc)\n",
    "            \n",
    "        if verbose:\n",
    "            print(f\"[Epoca {epoch}] Train loss: {avg_loss:.5f} -- Test Acc: {test_acc:.5f}\")\n",
    "            \n",
    "    return all_losses, test_acc_values             \n",
    "    \n",
    "        "
   ]
  },
  {
   "cell_type": "code",
   "execution_count": 58,
   "metadata": {},
   "outputs": [
    {
     "name": "stdout",
     "output_type": "stream",
     "text": [
      "[Epoca 0] Train loss: 0.39964 -- Test Acc: 0.83625\n",
      "[Epoca 1] Train loss: 0.38104 -- Test Acc: 0.82812\n",
      "[Epoca 2] Train loss: 0.39365 -- Test Acc: 0.83062\n",
      "[Epoca 3] Train loss: 0.40135 -- Test Acc: 0.83875\n",
      "[Epoca 4] Train loss: 0.38088 -- Test Acc: 0.83688\n",
      "[Epoca 5] Train loss: 0.37849 -- Test Acc: 0.83688\n",
      "[Epoca 6] Train loss: 0.38514 -- Test Acc: 0.82250\n",
      "[Epoca 7] Train loss: 0.37226 -- Test Acc: 0.84688\n",
      "[Epoca 8] Train loss: 0.36599 -- Test Acc: 0.78625\n",
      "[Epoca 9] Train loss: 0.35546 -- Test Acc: 0.81250\n",
      "[Epoca 10] Train loss: 0.35521 -- Test Acc: 0.79937\n",
      "[Epoca 11] Train loss: 0.33763 -- Test Acc: 0.81063\n",
      "[Epoca 12] Train loss: 0.35849 -- Test Acc: 0.85375\n",
      "[Epoca 13] Train loss: 0.36067 -- Test Acc: 0.79688\n",
      "[Epoca 14] Train loss: 0.36921 -- Test Acc: 0.86000\n",
      "[Epoca 15] Train loss: 0.32900 -- Test Acc: 0.84688\n",
      "[Epoca 16] Train loss: 0.34392 -- Test Acc: 0.82625\n",
      "[Epoca 17] Train loss: 0.36869 -- Test Acc: 0.86625\n",
      "[Epoca 18] Train loss: 0.36448 -- Test Acc: 0.84125\n",
      "[Epoca 19] Train loss: 0.32690 -- Test Acc: 0.83313\n",
      "[Epoca 20] Train loss: 0.32430 -- Test Acc: 0.84625\n",
      "[Epoca 21] Train loss: 0.32504 -- Test Acc: 0.86500\n",
      "[Epoca 22] Train loss: 0.34230 -- Test Acc: 0.85375\n",
      "[Epoca 23] Train loss: 0.32752 -- Test Acc: 0.84500\n",
      "[Epoca 24] Train loss: 0.33980 -- Test Acc: 0.86938\n",
      "[Epoca 25] Train loss: 0.33210 -- Test Acc: 0.83937\n",
      "[Epoca 26] Train loss: 0.31283 -- Test Acc: 0.86750\n",
      "[Epoca 27] Train loss: 0.32590 -- Test Acc: 0.86375\n",
      "[Epoca 28] Train loss: 0.32224 -- Test Acc: 0.84000\n",
      "[Epoca 29] Train loss: 0.31251 -- Test Acc: 0.87687\n",
      "[Epoca 30] Train loss: 0.30060 -- Test Acc: 0.89250\n",
      "[Epoca 31] Train loss: 0.29507 -- Test Acc: 0.84062\n",
      "[Epoca 32] Train loss: 0.29785 -- Test Acc: 0.84500\n",
      "[Epoca 33] Train loss: 0.32763 -- Test Acc: 0.82312\n",
      "[Epoca 34] Train loss: 0.30427 -- Test Acc: 0.82937\n",
      "[Epoca 35] Train loss: 0.29445 -- Test Acc: 0.83875\n",
      "[Epoca 36] Train loss: 0.29937 -- Test Acc: 0.83875\n",
      "[Epoca 37] Train loss: 0.30284 -- Test Acc: 0.86375\n",
      "[Epoca 38] Train loss: 0.30853 -- Test Acc: 0.88125\n",
      "[Epoca 39] Train loss: 0.31196 -- Test Acc: 0.86875\n",
      "[Epoca 40] Train loss: 0.29904 -- Test Acc: 0.87375\n",
      "[Epoca 41] Train loss: 0.30042 -- Test Acc: 0.84562\n",
      "[Epoca 42] Train loss: 0.26814 -- Test Acc: 0.86500\n",
      "[Epoca 43] Train loss: 0.26719 -- Test Acc: 0.90063\n",
      "[Epoca 44] Train loss: 0.27943 -- Test Acc: 0.86313\n",
      "[Epoca 45] Train loss: 0.26645 -- Test Acc: 0.89625\n",
      "[Epoca 46] Train loss: 0.27525 -- Test Acc: 0.89187\n",
      "[Epoca 47] Train loss: 0.28052 -- Test Acc: 0.87375\n",
      "[Epoca 48] Train loss: 0.27755 -- Test Acc: 0.89312\n",
      "[Epoca 49] Train loss: 0.29940 -- Test Acc: 0.87875\n"
     ]
    }
   ],
   "source": [
    "criterion = nn.BCELoss()\n",
    "optimizer = optim.SGD(model.parameters(), lr=0.01)\n",
    "epochs = 50\n",
    "device = torch.device(\"cuda\" if torch.cuda.is_available() else \"cpu\")\n",
    "model = model.to(device)\n",
    "\n",
    "# entrenar\n",
    "hist = train_torch(model.to(device), train_loader, test_loader, criterion, optimizer, epochs, device, True)"
   ]
  },
  {
   "cell_type": "code",
   "execution_count": 60,
   "metadata": {},
   "outputs": [
    {
     "data": {
      "text/plain": [
       "torch.Size([2, 12288])"
      ]
     },
     "execution_count": 60,
     "metadata": {},
     "output_type": "execute_result"
    }
   ],
   "source": [
    "# Inferencia\n",
    "cat_img = load_image(\"./cat.jpg\")\n",
    "bun_img = load_image(\"./conejo.jpg\")\n",
    "\n",
    "cat_img_ = torch.tensor(cat_img, dtype=torch.float32).unsqueeze(0)\n",
    "bun_img_ = torch.tensor(bun_img, dtype=torch.float32).unsqueeze(0)\n",
    "\n",
    "# Unimos en un único tensor\n",
    "images = torch.vstack([cat_img_, bun_img_])\n",
    "images = images.view(images.shape[0], -1)\n",
    "images.shape\n",
    "# 64x64x3 -> unsqueeze(0) -> 1x64x64x3 -> 1x12288 -> 2x12288"
   ]
  },
  {
   "cell_type": "code",
   "execution_count": 61,
   "metadata": {},
   "outputs": [
    {
     "data": {
      "text/plain": [
       "tensor([[0.6060],\n",
       "        [0.0510]], grad_fn=<SigmoidBackward0>)"
      ]
     },
     "execution_count": 61,
     "metadata": {},
     "output_type": "execute_result"
    }
   ],
   "source": [
    "model.eval()\n",
    "model(images.to(device))"
   ]
  },
  {
   "cell_type": "code",
   "execution_count": 62,
   "metadata": {},
   "outputs": [
    {
     "data": {
      "text/plain": [
       "tensor([[0.6060],\n",
       "        [0.0510]])"
      ]
     },
     "execution_count": 62,
     "metadata": {},
     "output_type": "execute_result"
    }
   ],
   "source": [
    "with torch.no_grad():\n",
    "    model = model.to(torch.device(\"cpu\"))\n",
    "    pred = model(images)\n",
    "pred"
   ]
  },
  {
   "cell_type": "markdown",
   "metadata": {},
   "source": [
    "------\n",
    "### Keras"
   ]
  },
  {
   "cell_type": "code",
   "execution_count": 63,
   "metadata": {},
   "outputs": [
    {
     "name": "stderr",
     "output_type": "stream",
     "text": [
      "c:\\Users\\07020\\Dev\\curso_ml\\venv\\Lib\\site-packages\\keras\\src\\layers\\core\\dense.py:87: UserWarning: Do not pass an `input_shape`/`input_dim` argument to a layer. When using Sequential models, prefer using an `Input(shape)` object as the first layer in the model instead.\n",
      "  super().__init__(activity_regularizer=activity_regularizer, **kwargs)\n"
     ]
    },
    {
     "data": {
      "text/html": [
       "<pre style=\"white-space:pre;overflow-x:auto;line-height:normal;font-family:Menlo,'DejaVu Sans Mono',consolas,'Courier New',monospace\"><span style=\"font-weight: bold\">Model: \"sequential\"</span>\n",
       "</pre>\n"
      ],
      "text/plain": [
       "\u001b[1mModel: \"sequential\"\u001b[0m\n"
      ]
     },
     "metadata": {},
     "output_type": "display_data"
    },
    {
     "data": {
      "text/html": [
       "<pre style=\"white-space:pre;overflow-x:auto;line-height:normal;font-family:Menlo,'DejaVu Sans Mono',consolas,'Courier New',monospace\">┏━━━━━━━━━━━━━━━━━━━━━━━━━━┳━━━━━━━━━━━━━━━━━━━━┳━━━━━━━━━━━━┓\n",
       "┃<span style=\"font-weight: bold\"> Layer (type)             </span>┃<span style=\"font-weight: bold\"> Output Shape       </span>┃<span style=\"font-weight: bold\">    Param # </span>┃\n",
       "┡━━━━━━━━━━━━━━━━━━━━━━━━━━╇━━━━━━━━━━━━━━━━━━━━╇━━━━━━━━━━━━┩\n",
       "│ dense (<span style=\"color: #0087ff; text-decoration-color: #0087ff\">Dense</span>)            │ (<span style=\"color: #00d7ff; text-decoration-color: #00d7ff\">None</span>, <span style=\"color: #00af00; text-decoration-color: #00af00\">64</span>)         │    <span style=\"color: #00af00; text-decoration-color: #00af00\">786,496</span> │\n",
       "├──────────────────────────┼────────────────────┼────────────┤\n",
       "│ dropout (<span style=\"color: #0087ff; text-decoration-color: #0087ff\">Dropout</span>)        │ (<span style=\"color: #00d7ff; text-decoration-color: #00d7ff\">None</span>, <span style=\"color: #00af00; text-decoration-color: #00af00\">64</span>)         │          <span style=\"color: #00af00; text-decoration-color: #00af00\">0</span> │\n",
       "├──────────────────────────┼────────────────────┼────────────┤\n",
       "│ dense_1 (<span style=\"color: #0087ff; text-decoration-color: #0087ff\">Dense</span>)          │ (<span style=\"color: #00d7ff; text-decoration-color: #00d7ff\">None</span>, <span style=\"color: #00af00; text-decoration-color: #00af00\">32</span>)         │      <span style=\"color: #00af00; text-decoration-color: #00af00\">2,080</span> │\n",
       "├──────────────────────────┼────────────────────┼────────────┤\n",
       "│ dropout_1 (<span style=\"color: #0087ff; text-decoration-color: #0087ff\">Dropout</span>)      │ (<span style=\"color: #00d7ff; text-decoration-color: #00d7ff\">None</span>, <span style=\"color: #00af00; text-decoration-color: #00af00\">32</span>)         │          <span style=\"color: #00af00; text-decoration-color: #00af00\">0</span> │\n",
       "├──────────────────────────┼────────────────────┼────────────┤\n",
       "│ dense_2 (<span style=\"color: #0087ff; text-decoration-color: #0087ff\">Dense</span>)          │ (<span style=\"color: #00d7ff; text-decoration-color: #00d7ff\">None</span>, <span style=\"color: #00af00; text-decoration-color: #00af00\">1</span>)          │         <span style=\"color: #00af00; text-decoration-color: #00af00\">33</span> │\n",
       "└──────────────────────────┴────────────────────┴────────────┘\n",
       "</pre>\n"
      ],
      "text/plain": [
       "┏━━━━━━━━━━━━━━━━━━━━━━━━━━┳━━━━━━━━━━━━━━━━━━━━┳━━━━━━━━━━━━┓\n",
       "┃\u001b[1m \u001b[0m\u001b[1mLayer (type)            \u001b[0m\u001b[1m \u001b[0m┃\u001b[1m \u001b[0m\u001b[1mOutput Shape      \u001b[0m\u001b[1m \u001b[0m┃\u001b[1m \u001b[0m\u001b[1m   Param #\u001b[0m\u001b[1m \u001b[0m┃\n",
       "┡━━━━━━━━━━━━━━━━━━━━━━━━━━╇━━━━━━━━━━━━━━━━━━━━╇━━━━━━━━━━━━┩\n",
       "│ dense (\u001b[38;5;33mDense\u001b[0m)            │ (\u001b[38;5;45mNone\u001b[0m, \u001b[38;5;34m64\u001b[0m)         │    \u001b[38;5;34m786,496\u001b[0m │\n",
       "├──────────────────────────┼────────────────────┼────────────┤\n",
       "│ dropout (\u001b[38;5;33mDropout\u001b[0m)        │ (\u001b[38;5;45mNone\u001b[0m, \u001b[38;5;34m64\u001b[0m)         │          \u001b[38;5;34m0\u001b[0m │\n",
       "├──────────────────────────┼────────────────────┼────────────┤\n",
       "│ dense_1 (\u001b[38;5;33mDense\u001b[0m)          │ (\u001b[38;5;45mNone\u001b[0m, \u001b[38;5;34m32\u001b[0m)         │      \u001b[38;5;34m2,080\u001b[0m │\n",
       "├──────────────────────────┼────────────────────┼────────────┤\n",
       "│ dropout_1 (\u001b[38;5;33mDropout\u001b[0m)      │ (\u001b[38;5;45mNone\u001b[0m, \u001b[38;5;34m32\u001b[0m)         │          \u001b[38;5;34m0\u001b[0m │\n",
       "├──────────────────────────┼────────────────────┼────────────┤\n",
       "│ dense_2 (\u001b[38;5;33mDense\u001b[0m)          │ (\u001b[38;5;45mNone\u001b[0m, \u001b[38;5;34m1\u001b[0m)          │         \u001b[38;5;34m33\u001b[0m │\n",
       "└──────────────────────────┴────────────────────┴────────────┘\n"
      ]
     },
     "metadata": {},
     "output_type": "display_data"
    },
    {
     "data": {
      "text/html": [
       "<pre style=\"white-space:pre;overflow-x:auto;line-height:normal;font-family:Menlo,'DejaVu Sans Mono',consolas,'Courier New',monospace\"><span style=\"font-weight: bold\"> Total params: </span><span style=\"color: #00af00; text-decoration-color: #00af00\">788,609</span> (3.01 MB)\n",
       "</pre>\n"
      ],
      "text/plain": [
       "\u001b[1m Total params: \u001b[0m\u001b[38;5;34m788,609\u001b[0m (3.01 MB)\n"
      ]
     },
     "metadata": {},
     "output_type": "display_data"
    },
    {
     "data": {
      "text/html": [
       "<pre style=\"white-space:pre;overflow-x:auto;line-height:normal;font-family:Menlo,'DejaVu Sans Mono',consolas,'Courier New',monospace\"><span style=\"font-weight: bold\"> Trainable params: </span><span style=\"color: #00af00; text-decoration-color: #00af00\">788,609</span> (3.01 MB)\n",
       "</pre>\n"
      ],
      "text/plain": [
       "\u001b[1m Trainable params: \u001b[0m\u001b[38;5;34m788,609\u001b[0m (3.01 MB)\n"
      ]
     },
     "metadata": {},
     "output_type": "display_data"
    },
    {
     "data": {
      "text/html": [
       "<pre style=\"white-space:pre;overflow-x:auto;line-height:normal;font-family:Menlo,'DejaVu Sans Mono',consolas,'Courier New',monospace\"><span style=\"font-weight: bold\"> Non-trainable params: </span><span style=\"color: #00af00; text-decoration-color: #00af00\">0</span> (0.00 B)\n",
       "</pre>\n"
      ],
      "text/plain": [
       "\u001b[1m Non-trainable params: \u001b[0m\u001b[38;5;34m0\u001b[0m (0.00 B)\n"
      ]
     },
     "metadata": {},
     "output_type": "display_data"
    }
   ],
   "source": [
    "from tensorflow.keras.models import Sequential\n",
    "from tensorflow.keras import layers\n",
    "\n",
    "# Crear el modelo\n",
    "model = Sequential()\n",
    "# Tamaño de las capas\n",
    "sizes = [64, 32]\n",
    "# Input\n",
    "model.add(layers.Dense(sizes[0], activation=\"relu\", input_shape=(X_testTF.shape[1], )))\n",
    "model.add(layers.Dropout(0.5))\n",
    "# Hidden\n",
    "model.add(layers.Dense(sizes[1], activation=\"relu\"))\n",
    "model.add(layers.Dropout(0.5))\n",
    "# Output\n",
    "model.add(layers.Dense(1, activation=\"sigmoid\"))\n",
    "model.summary()"
   ]
  },
  {
   "cell_type": "code",
   "execution_count": 65,
   "metadata": {},
   "outputs": [
    {
     "name": "stdout",
     "output_type": "stream",
     "text": [
      "Epoch 1/50\n",
      "\u001b[1m50/50\u001b[0m \u001b[32m━━━━━━━━━━━━━━━━━━━━\u001b[0m\u001b[37m\u001b[0m \u001b[1m1s\u001b[0m 10ms/step - accuracy: 0.5033 - loss: 0.7347 - precision: 0.4831 - val_accuracy: 0.6000 - val_loss: 0.6831 - val_precision: 1.0000\n",
      "Epoch 2/50\n",
      "\u001b[1m50/50\u001b[0m \u001b[32m━━━━━━━━━━━━━━━━━━━━\u001b[0m\u001b[37m\u001b[0m \u001b[1m0s\u001b[0m 4ms/step - accuracy: 0.5428 - loss: 0.6845 - precision: 0.5531 - val_accuracy: 0.5333 - val_loss: 0.6906 - val_precision: 1.0000\n",
      "Epoch 3/50\n",
      "\u001b[1m50/50\u001b[0m \u001b[32m━━━━━━━━━━━━━━━━━━━━\u001b[0m\u001b[37m\u001b[0m \u001b[1m0s\u001b[0m 3ms/step - accuracy: 0.5592 - loss: 0.6851 - precision: 0.5705 - val_accuracy: 0.8667 - val_loss: 0.6129 - val_precision: 0.8333\n",
      "Epoch 4/50\n",
      "\u001b[1m50/50\u001b[0m \u001b[32m━━━━━━━━━━━━━━━━━━━━\u001b[0m\u001b[37m\u001b[0m \u001b[1m0s\u001b[0m 4ms/step - accuracy: 0.5535 - loss: 0.6790 - precision: 0.5782 - val_accuracy: 0.7333 - val_loss: 0.6008 - val_precision: 0.8750\n",
      "Epoch 5/50\n",
      "\u001b[1m50/50\u001b[0m \u001b[32m━━━━━━━━━━━━━━━━━━━━\u001b[0m\u001b[37m\u001b[0m \u001b[1m0s\u001b[0m 3ms/step - accuracy: 0.6067 - loss: 0.6584 - precision: 0.5972 - val_accuracy: 0.8000 - val_loss: 0.6028 - val_precision: 0.7692\n",
      "Epoch 6/50\n",
      "\u001b[1m50/50\u001b[0m \u001b[32m━━━━━━━━━━━━━━━━━━━━\u001b[0m\u001b[37m\u001b[0m \u001b[1m0s\u001b[0m 4ms/step - accuracy: 0.6182 - loss: 0.6324 - precision: 0.6022 - val_accuracy: 0.8667 - val_loss: 0.5809 - val_precision: 0.9000\n",
      "Epoch 7/50\n",
      "\u001b[1m50/50\u001b[0m \u001b[32m━━━━━━━━━━━━━━━━━━━━\u001b[0m\u001b[37m\u001b[0m \u001b[1m0s\u001b[0m 4ms/step - accuracy: 0.6553 - loss: 0.6222 - precision: 0.6458 - val_accuracy: 0.8000 - val_loss: 0.5370 - val_precision: 0.8182\n",
      "Epoch 8/50\n",
      "\u001b[1m50/50\u001b[0m \u001b[32m━━━━━━━━━━━━━━━━━━━━\u001b[0m\u001b[37m\u001b[0m \u001b[1m0s\u001b[0m 4ms/step - accuracy: 0.6292 - loss: 0.6242 - precision: 0.6107 - val_accuracy: 0.6000 - val_loss: 0.5603 - val_precision: 0.8333\n",
      "Epoch 9/50\n",
      "\u001b[1m50/50\u001b[0m \u001b[32m━━━━━━━━━━━━━━━━━━━━\u001b[0m\u001b[37m\u001b[0m \u001b[1m0s\u001b[0m 4ms/step - accuracy: 0.6389 - loss: 0.6131 - precision: 0.6185 - val_accuracy: 0.8000 - val_loss: 0.4928 - val_precision: 0.7692\n",
      "Epoch 10/50\n",
      "\u001b[1m50/50\u001b[0m \u001b[32m━━━━━━━━━━━━━━━━━━━━\u001b[0m\u001b[37m\u001b[0m \u001b[1m0s\u001b[0m 5ms/step - accuracy: 0.6709 - loss: 0.5765 - precision: 0.6431 - val_accuracy: 0.8667 - val_loss: 0.5341 - val_precision: 0.9000\n",
      "Epoch 11/50\n",
      "\u001b[1m50/50\u001b[0m \u001b[32m━━━━━━━━━━━━━━━━━━━━\u001b[0m\u001b[37m\u001b[0m \u001b[1m0s\u001b[0m 4ms/step - accuracy: 0.6542 - loss: 0.5938 - precision: 0.6292 - val_accuracy: 0.8667 - val_loss: 0.4817 - val_precision: 0.9000\n",
      "Epoch 12/50\n",
      "\u001b[1m50/50\u001b[0m \u001b[32m━━━━━━━━━━━━━━━━━━━━\u001b[0m\u001b[37m\u001b[0m \u001b[1m0s\u001b[0m 5ms/step - accuracy: 0.6872 - loss: 0.5615 - precision: 0.6500 - val_accuracy: 0.8000 - val_loss: 0.4758 - val_precision: 0.7692\n",
      "Epoch 13/50\n",
      "\u001b[1m50/50\u001b[0m \u001b[32m━━━━━━━━━━━━━━━━━━━━\u001b[0m\u001b[37m\u001b[0m \u001b[1m0s\u001b[0m 4ms/step - accuracy: 0.6776 - loss: 0.5699 - precision: 0.6414 - val_accuracy: 0.8667 - val_loss: 0.4521 - val_precision: 0.8333\n",
      "Epoch 14/50\n",
      "\u001b[1m50/50\u001b[0m \u001b[32m━━━━━━━━━━━━━━━━━━━━\u001b[0m\u001b[37m\u001b[0m \u001b[1m0s\u001b[0m 4ms/step - accuracy: 0.7069 - loss: 0.5597 - precision: 0.6787 - val_accuracy: 0.8000 - val_loss: 0.4829 - val_precision: 0.7692\n",
      "Epoch 15/50\n",
      "\u001b[1m50/50\u001b[0m \u001b[32m━━━━━━━━━━━━━━━━━━━━\u001b[0m\u001b[37m\u001b[0m \u001b[1m0s\u001b[0m 4ms/step - accuracy: 0.7175 - loss: 0.5407 - precision: 0.6801 - val_accuracy: 0.8667 - val_loss: 0.4445 - val_precision: 0.9000\n",
      "Epoch 16/50\n",
      "\u001b[1m50/50\u001b[0m \u001b[32m━━━━━━━━━━━━━━━━━━━━\u001b[0m\u001b[37m\u001b[0m \u001b[1m0s\u001b[0m 4ms/step - accuracy: 0.7246 - loss: 0.5299 - precision: 0.7086 - val_accuracy: 0.8000 - val_loss: 0.4839 - val_precision: 0.8889\n",
      "Epoch 17/50\n",
      "\u001b[1m50/50\u001b[0m \u001b[32m━━━━━━━━━━━━━━━━━━━━\u001b[0m\u001b[37m\u001b[0m \u001b[1m0s\u001b[0m 4ms/step - accuracy: 0.6915 - loss: 0.5456 - precision: 0.6572 - val_accuracy: 0.7333 - val_loss: 0.4488 - val_precision: 0.8750\n",
      "Epoch 18/50\n",
      "\u001b[1m50/50\u001b[0m \u001b[32m━━━━━━━━━━━━━━━━━━━━\u001b[0m\u001b[37m\u001b[0m \u001b[1m0s\u001b[0m 4ms/step - accuracy: 0.6697 - loss: 0.5579 - precision: 0.6288 - val_accuracy: 0.9333 - val_loss: 0.3773 - val_precision: 0.9091\n",
      "Epoch 19/50\n",
      "\u001b[1m50/50\u001b[0m \u001b[32m━━━━━━━━━━━━━━━━━━━━\u001b[0m\u001b[37m\u001b[0m \u001b[1m0s\u001b[0m 3ms/step - accuracy: 0.7268 - loss: 0.5190 - precision: 0.6905 - val_accuracy: 0.8000 - val_loss: 0.4698 - val_precision: 0.7692\n",
      "Epoch 20/50\n",
      "\u001b[1m50/50\u001b[0m \u001b[32m━━━━━━━━━━━━━━━━━━━━\u001b[0m\u001b[37m\u001b[0m \u001b[1m0s\u001b[0m 4ms/step - accuracy: 0.6881 - loss: 0.5475 - precision: 0.6615 - val_accuracy: 0.8667 - val_loss: 0.3851 - val_precision: 0.9000\n",
      "Epoch 21/50\n",
      "\u001b[1m50/50\u001b[0m \u001b[32m━━━━━━━━━━━━━━━━━━━━\u001b[0m\u001b[37m\u001b[0m \u001b[1m0s\u001b[0m 4ms/step - accuracy: 0.6787 - loss: 0.5304 - precision: 0.6312 - val_accuracy: 0.8000 - val_loss: 0.4170 - val_precision: 0.8182\n",
      "Epoch 22/50\n",
      "\u001b[1m50/50\u001b[0m \u001b[32m━━━━━━━━━━━━━━━━━━━━\u001b[0m\u001b[37m\u001b[0m \u001b[1m0s\u001b[0m 4ms/step - accuracy: 0.6965 - loss: 0.5125 - precision: 0.6521 - val_accuracy: 0.9333 - val_loss: 0.3758 - val_precision: 0.9091\n",
      "Epoch 23/50\n",
      "\u001b[1m50/50\u001b[0m \u001b[32m━━━━━━━━━━━━━━━━━━━━\u001b[0m\u001b[37m\u001b[0m \u001b[1m0s\u001b[0m 4ms/step - accuracy: 0.6899 - loss: 0.5111 - precision: 0.6492 - val_accuracy: 0.9333 - val_loss: 0.3413 - val_precision: 0.9091\n",
      "Epoch 24/50\n",
      "\u001b[1m50/50\u001b[0m \u001b[32m━━━━━━━━━━━━━━━━━━━━\u001b[0m\u001b[37m\u001b[0m \u001b[1m0s\u001b[0m 4ms/step - accuracy: 0.7273 - loss: 0.5225 - precision: 0.6920 - val_accuracy: 0.8667 - val_loss: 0.4032 - val_precision: 0.9000\n",
      "Epoch 25/50\n",
      "\u001b[1m50/50\u001b[0m \u001b[32m━━━━━━━━━━━━━━━━━━━━\u001b[0m\u001b[37m\u001b[0m \u001b[1m0s\u001b[0m 4ms/step - accuracy: 0.7002 - loss: 0.5215 - precision: 0.6688 - val_accuracy: 0.8667 - val_loss: 0.3354 - val_precision: 0.9000\n",
      "Epoch 26/50\n",
      "\u001b[1m50/50\u001b[0m \u001b[32m━━━━━━━━━━━━━━━━━━━━\u001b[0m\u001b[37m\u001b[0m \u001b[1m0s\u001b[0m 4ms/step - accuracy: 0.7064 - loss: 0.4955 - precision: 0.6639 - val_accuracy: 0.8667 - val_loss: 0.3218 - val_precision: 0.8333\n",
      "Epoch 27/50\n",
      "\u001b[1m50/50\u001b[0m \u001b[32m━━━━━━━━━━━━━━━━━━━━\u001b[0m\u001b[37m\u001b[0m \u001b[1m0s\u001b[0m 4ms/step - accuracy: 0.7003 - loss: 0.5242 - precision: 0.6595 - val_accuracy: 0.8667 - val_loss: 0.3715 - val_precision: 0.9000\n",
      "Epoch 28/50\n",
      "\u001b[1m50/50\u001b[0m \u001b[32m━━━━━━━━━━━━━━━━━━━━\u001b[0m\u001b[37m\u001b[0m \u001b[1m0s\u001b[0m 4ms/step - accuracy: 0.7273 - loss: 0.5040 - precision: 0.6825 - val_accuracy: 0.9333 - val_loss: 0.3290 - val_precision: 0.9091\n",
      "Epoch 29/50\n",
      "\u001b[1m50/50\u001b[0m \u001b[32m━━━━━━━━━━━━━━━━━━━━\u001b[0m\u001b[37m\u001b[0m \u001b[1m0s\u001b[0m 4ms/step - accuracy: 0.7167 - loss: 0.4724 - precision: 0.6677 - val_accuracy: 0.8667 - val_loss: 0.3265 - val_precision: 0.9000\n",
      "Epoch 30/50\n",
      "\u001b[1m50/50\u001b[0m \u001b[32m━━━━━━━━━━━━━━━━━━━━\u001b[0m\u001b[37m\u001b[0m \u001b[1m0s\u001b[0m 4ms/step - accuracy: 0.7249 - loss: 0.4738 - precision: 0.6724 - val_accuracy: 0.9333 - val_loss: 0.3369 - val_precision: 0.9091\n",
      "Epoch 31/50\n",
      "\u001b[1m50/50\u001b[0m \u001b[32m━━━━━━━━━━━━━━━━━━━━\u001b[0m\u001b[37m\u001b[0m \u001b[1m0s\u001b[0m 4ms/step - accuracy: 0.7364 - loss: 0.4742 - precision: 0.6843 - val_accuracy: 0.8000 - val_loss: 0.3425 - val_precision: 0.8889\n",
      "Epoch 32/50\n",
      "\u001b[1m50/50\u001b[0m \u001b[32m━━━━━━━━━━━━━━━━━━━━\u001b[0m\u001b[37m\u001b[0m \u001b[1m0s\u001b[0m 4ms/step - accuracy: 0.7486 - loss: 0.4506 - precision: 0.7125 - val_accuracy: 0.9333 - val_loss: 0.3131 - val_precision: 0.9091\n",
      "Epoch 33/50\n",
      "\u001b[1m50/50\u001b[0m \u001b[32m━━━━━━━━━━━━━━━━━━━━\u001b[0m\u001b[37m\u001b[0m \u001b[1m0s\u001b[0m 5ms/step - accuracy: 0.7389 - loss: 0.4751 - precision: 0.6974 - val_accuracy: 0.8667 - val_loss: 0.3224 - val_precision: 0.9000\n",
      "Epoch 34/50\n",
      "\u001b[1m50/50\u001b[0m \u001b[32m━━━━━━━━━━━━━━━━━━━━\u001b[0m\u001b[37m\u001b[0m \u001b[1m0s\u001b[0m 5ms/step - accuracy: 0.7233 - loss: 0.4567 - precision: 0.6754 - val_accuracy: 0.9333 - val_loss: 0.2931 - val_precision: 0.9091\n",
      "Epoch 35/50\n",
      "\u001b[1m50/50\u001b[0m \u001b[32m━━━━━━━━━━━━━━━━━━━━\u001b[0m\u001b[37m\u001b[0m \u001b[1m0s\u001b[0m 5ms/step - accuracy: 0.7408 - loss: 0.4428 - precision: 0.7057 - val_accuracy: 0.9333 - val_loss: 0.3004 - val_precision: 0.9091\n",
      "Epoch 36/50\n",
      "\u001b[1m50/50\u001b[0m \u001b[32m━━━━━━━━━━━━━━━━━━━━\u001b[0m\u001b[37m\u001b[0m \u001b[1m0s\u001b[0m 3ms/step - accuracy: 0.7364 - loss: 0.4668 - precision: 0.6905 - val_accuracy: 0.9333 - val_loss: 0.3128 - val_precision: 0.9091\n",
      "Epoch 37/50\n",
      "\u001b[1m50/50\u001b[0m \u001b[32m━━━━━━━━━━━━━━━━━━━━\u001b[0m\u001b[37m\u001b[0m \u001b[1m0s\u001b[0m 4ms/step - accuracy: 0.7604 - loss: 0.4360 - precision: 0.7169 - val_accuracy: 0.9333 - val_loss: 0.3195 - val_precision: 0.9091\n",
      "Epoch 38/50\n",
      "\u001b[1m50/50\u001b[0m \u001b[32m━━━━━━━━━━━━━━━━━━━━\u001b[0m\u001b[37m\u001b[0m \u001b[1m0s\u001b[0m 4ms/step - accuracy: 0.7338 - loss: 0.4763 - precision: 0.6962 - val_accuracy: 0.9333 - val_loss: 0.3140 - val_precision: 0.9091\n",
      "Epoch 39/50\n",
      "\u001b[1m50/50\u001b[0m \u001b[32m━━━━━━━━━━━━━━━━━━━━\u001b[0m\u001b[37m\u001b[0m \u001b[1m0s\u001b[0m 4ms/step - accuracy: 0.7393 - loss: 0.4356 - precision: 0.6744 - val_accuracy: 0.8667 - val_loss: 0.3193 - val_precision: 0.8333\n",
      "Epoch 40/50\n",
      "\u001b[1m50/50\u001b[0m \u001b[32m━━━━━━━━━━━━━━━━━━━━\u001b[0m\u001b[37m\u001b[0m \u001b[1m0s\u001b[0m 4ms/step - accuracy: 0.7520 - loss: 0.4479 - precision: 0.7106 - val_accuracy: 0.8667 - val_loss: 0.3269 - val_precision: 0.9000\n",
      "Epoch 41/50\n",
      "\u001b[1m50/50\u001b[0m \u001b[32m━━━━━━━━━━━━━━━━━━━━\u001b[0m\u001b[37m\u001b[0m \u001b[1m0s\u001b[0m 4ms/step - accuracy: 0.7240 - loss: 0.4556 - precision: 0.6713 - val_accuracy: 0.8667 - val_loss: 0.3415 - val_precision: 0.8333\n",
      "Epoch 42/50\n",
      "\u001b[1m50/50\u001b[0m \u001b[32m━━━━━━━━━━━━━━━━━━━━\u001b[0m\u001b[37m\u001b[0m \u001b[1m0s\u001b[0m 4ms/step - accuracy: 0.7330 - loss: 0.4598 - precision: 0.6824 - val_accuracy: 0.8667 - val_loss: 0.3034 - val_precision: 0.9000\n",
      "Epoch 43/50\n",
      "\u001b[1m50/50\u001b[0m \u001b[32m━━━━━━━━━━━━━━━━━━━━\u001b[0m\u001b[37m\u001b[0m \u001b[1m0s\u001b[0m 4ms/step - accuracy: 0.7369 - loss: 0.4422 - precision: 0.6839 - val_accuracy: 0.9333 - val_loss: 0.2882 - val_precision: 0.9091\n",
      "Epoch 44/50\n",
      "\u001b[1m50/50\u001b[0m \u001b[32m━━━━━━━━━━━━━━━━━━━━\u001b[0m\u001b[37m\u001b[0m \u001b[1m0s\u001b[0m 4ms/step - accuracy: 0.7524 - loss: 0.4078 - precision: 0.7029 - val_accuracy: 0.8667 - val_loss: 0.3161 - val_precision: 0.8333\n",
      "Epoch 45/50\n",
      "\u001b[1m50/50\u001b[0m \u001b[32m━━━━━━━━━━━━━━━━━━━━\u001b[0m\u001b[37m\u001b[0m \u001b[1m0s\u001b[0m 4ms/step - accuracy: 0.7581 - loss: 0.4374 - precision: 0.7080 - val_accuracy: 0.9333 - val_loss: 0.3444 - val_precision: 0.9091\n",
      "Epoch 46/50\n",
      "\u001b[1m50/50\u001b[0m \u001b[32m━━━━━━━━━━━━━━━━━━━━\u001b[0m\u001b[37m\u001b[0m \u001b[1m0s\u001b[0m 4ms/step - accuracy: 0.7586 - loss: 0.4438 - precision: 0.7116 - val_accuracy: 0.9333 - val_loss: 0.3444 - val_precision: 0.9091\n",
      "Epoch 47/50\n",
      "\u001b[1m50/50\u001b[0m \u001b[32m━━━━━━━━━━━━━━━━━━━━\u001b[0m\u001b[37m\u001b[0m \u001b[1m0s\u001b[0m 4ms/step - accuracy: 0.7490 - loss: 0.4289 - precision: 0.7016 - val_accuracy: 0.8667 - val_loss: 0.2834 - val_precision: 0.9000\n",
      "Epoch 48/50\n",
      "\u001b[1m50/50\u001b[0m \u001b[32m━━━━━━━━━━━━━━━━━━━━\u001b[0m\u001b[37m\u001b[0m \u001b[1m0s\u001b[0m 4ms/step - accuracy: 0.7423 - loss: 0.4382 - precision: 0.6873 - val_accuracy: 0.8000 - val_loss: 0.4053 - val_precision: 0.7692\n",
      "Epoch 49/50\n",
      "\u001b[1m50/50\u001b[0m \u001b[32m━━━━━━━━━━━━━━━━━━━━\u001b[0m\u001b[37m\u001b[0m \u001b[1m0s\u001b[0m 5ms/step - accuracy: 0.7378 - loss: 0.4345 - precision: 0.6767 - val_accuracy: 0.9333 - val_loss: 0.2621 - val_precision: 0.9091\n",
      "Epoch 50/50\n",
      "\u001b[1m50/50\u001b[0m \u001b[32m━━━━━━━━━━━━━━━━━━━━\u001b[0m\u001b[37m\u001b[0m \u001b[1m0s\u001b[0m 3ms/step - accuracy: 0.7278 - loss: 0.4403 - precision: 0.6777 - val_accuracy: 0.9333 - val_loss: 0.2399 - val_precision: 0.9091\n",
      "\u001b[1m1/1\u001b[0m \u001b[32m━━━━━━━━━━━━━━━━━━━━\u001b[0m\u001b[37m\u001b[0m \u001b[1m0s\u001b[0m 31ms/step - accuracy: 0.9333 - loss: 0.2399 - precision: 0.9091\n",
      "Loss: 0.2399 -- Accuracy: 93.3333 -- Pres: 0.9091\n"
     ]
    }
   ],
   "source": [
    "# Compilar y entrenar\n",
    "model.compile(optimizer=SGD(learning_rate=0.01),\n",
    "              loss=\"binary_crossentropy\",\n",
    "              metrics=[\"accuracy\", \"precision\"])\n",
    "\n",
    "hist = model.fit(X_trainTF,\n",
    "                 y_trainTF,\n",
    "                 epochs=epochs,\n",
    "                 batch_size=32,\n",
    "                 validation_data=(X_testTF, y_testTF))\n",
    "\n",
    "# Evaluación\n",
    "loss, accuracy, pres = model.evaluate(X_testTF, y_testTF)\n",
    "print(f\"Loss: {loss:.4f} -- Accuracy: {accuracy*100:.4f} -- Pres: {pres:.4f}\")"
   ]
  },
  {
   "cell_type": "code",
   "execution_count": 66,
   "metadata": {},
   "outputs": [
    {
     "data": {
      "text/plain": [
       "(2, 12288)"
      ]
     },
     "execution_count": 66,
     "metadata": {},
     "output_type": "execute_result"
    }
   ],
   "source": [
    "cat_img = load_image(\"./cat.jpg\")\n",
    "bun_img = load_image(\"./conejo.jpg\")\n",
    "\n",
    "cat_img = cat_img.reshape((1, -1))\n",
    "bun_img = bun_img.reshape((1, -1))\n",
    "\n",
    "images = np.vstack([cat_img, bun_img]) # 2x12288\n",
    "\n",
    "images.shape"
   ]
  },
  {
   "cell_type": "code",
   "execution_count": 67,
   "metadata": {},
   "outputs": [
    {
     "name": "stdout",
     "output_type": "stream",
     "text": [
      "\u001b[1m1/1\u001b[0m \u001b[32m━━━━━━━━━━━━━━━━━━━━\u001b[0m\u001b[37m\u001b[0m \u001b[1m0s\u001b[0m 75ms/step\n"
     ]
    },
    {
     "data": {
      "text/plain": [
       "array([[0.4422369 ],\n",
       "       [0.05835333]], dtype=float32)"
      ]
     },
     "execution_count": 67,
     "metadata": {},
     "output_type": "execute_result"
    }
   ],
   "source": [
    "model.predict(images)"
   ]
  }
 ],
 "metadata": {
  "kernelspec": {
   "display_name": "venv",
   "language": "python",
   "name": "python3"
  },
  "language_info": {
   "codemirror_mode": {
    "name": "ipython",
    "version": 3
   },
   "file_extension": ".py",
   "mimetype": "text/x-python",
   "name": "python",
   "nbconvert_exporter": "python",
   "pygments_lexer": "ipython3",
   "version": "3.12.7"
  }
 },
 "nbformat": 4,
 "nbformat_minor": 2
}
